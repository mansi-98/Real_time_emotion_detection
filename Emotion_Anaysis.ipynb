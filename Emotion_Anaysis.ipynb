{
  "nbformat": 4,
  "nbformat_minor": 0,
  "metadata": {
    "colab": {
      "name": "Emotion_Anaysis.ipynb",
      "provenance": [],
      "collapsed_sections": [],
      "include_colab_link": true
    },
    "kernelspec": {
      "name": "python3",
      "display_name": "Python 3"
    },
    "accelerator": "GPU"
  },
  "cells": [
    {
      "cell_type": "markdown",
      "metadata": {
        "id": "view-in-github",
        "colab_type": "text"
      },
      "source": [
        "<a href=\"https://colab.research.google.com/github/mansi-98/Real_time_emotion_detection/blob/master/Emotion_Anaysis.ipynb\" target=\"_parent\"><img src=\"https://colab.research.google.com/assets/colab-badge.svg\" alt=\"Open In Colab\"/></a>"
      ]
    },
    {
      "cell_type": "code",
      "metadata": {
        "id": "kN1sqLpV1bqR",
        "colab_type": "code",
        "outputId": "97e88405-6cfc-48ca-8c56-60774d89b2c0",
        "colab": {
          "base_uri": "https://localhost:8080/",
          "height": 34
        }
      },
      "source": [
        "from google.colab import drive\n",
        "drive.mount('/content/gdrive')"
      ],
      "execution_count": 103,
      "outputs": [
        {
          "output_type": "stream",
          "text": [
            "Drive already mounted at /content/gdrive; to attempt to forcibly remount, call drive.mount(\"/content/gdrive\", force_remount=True).\n"
          ],
          "name": "stdout"
        }
      ]
    },
    {
      "cell_type": "markdown",
      "metadata": {
        "id": "iWzsI_mRluUx",
        "colab_type": "text"
      },
      "source": [
        "## **Importing** **Libraries** "
      ]
    },
    {
      "cell_type": "code",
      "metadata": {
        "id": "E5VVSY5DVHvO",
        "colab_type": "code",
        "colab": {}
      },
      "source": [
        "import sys, os\n",
        "import pandas as pd\n",
        "import numpy as np\n",
        "\n",
        "from keras.models import Sequential\n",
        "from keras.layers import Dense, Dropout, Activation, Flatten\n",
        "from keras.layers import Conv2D, MaxPooling2D, BatchNormalization,AveragePooling2D\n",
        "from keras.losses import categorical_crossentropy\n",
        "from keras.optimizers import Adam\n",
        "from keras.regularizers import l2\n",
        "from keras.utils import np_utils"
      ],
      "execution_count": 0,
      "outputs": []
    },
    {
      "cell_type": "code",
      "metadata": {
        "id": "JdTyWjL03r8i",
        "colab_type": "code",
        "colab": {}
      },
      "source": [
        "from keras.wrappers.scikit_learn import KerasRegressor\n",
        "from sklearn.model_selection import RandomizedSearchCV, KFold, cross_val_score\n",
        "from keras.optimizers import Adam\n",
        "from keras import regularizers\n",
        "from sklearn.model_selection import GridSearchCV"
      ],
      "execution_count": 0,
      "outputs": []
    },
    {
      "cell_type": "markdown",
      "metadata": {
        "id": "pAupExyCfDGO",
        "colab_type": "text"
      },
      "source": [
        "#Loading the FER2013 dataset"
      ]
    },
    {
      "cell_type": "code",
      "metadata": {
        "id": "0NaB9Z3M4Kz9",
        "colab_type": "code",
        "outputId": "92c256e3-e8d0-4314-86d6-0773c2723d9b",
        "colab": {
          "base_uri": "https://localhost:8080/",
          "height": 118
        }
      },
      "source": [
        "\n",
        "df=pd.read_csv('/content/gdrive/My Drive/Realtime-Emotion-Detection/fer2013.csv')\n",
        "# print(df.info())\n",
        "# print(df[\"Usage\"].value_counts())\n",
        "\n",
        "print(df.head())"
      ],
      "execution_count": 106,
      "outputs": [
        {
          "output_type": "stream",
          "text": [
            "   emotion                                             pixels     Usage\n",
            "0        0  70 80 82 72 58 58 60 63 54 58 60 48 89 115 121...  Training\n",
            "1        0  151 150 147 155 148 133 111 140 170 174 182 15...  Training\n",
            "2        2  231 212 156 164 174 138 161 173 182 200 106 38...  Training\n",
            "3        4  24 32 36 30 32 23 19 20 30 41 21 22 32 34 21 1...  Training\n",
            "4        6  4 0 0 0 0 0 0 0 0 0 0 0 3 15 23 28 48 50 58 84...  Training\n"
          ],
          "name": "stdout"
        }
      ]
    },
    {
      "cell_type": "markdown",
      "metadata": {
        "id": "2lhp5f6kfGMZ",
        "colab_type": "text"
      },
      "source": [
        "# Data preparation\n"
      ]
    },
    {
      "cell_type": "code",
      "metadata": {
        "id": "wVnqaIJHVPuG",
        "colab_type": "code",
        "colab": {}
      },
      "source": [
        "X_train,train_y,X_test,test_y=[],[],[],[]\n",
        "\n",
        "for index, row in df.iterrows():\n",
        "    val=row['pixels'].split(\" \")\n",
        "    try:\n",
        "        if 'Training' in row['Usage']:\n",
        "           X_train.append(np.array(val,'float32'))\n",
        "           train_y.append(row['emotion'])\n",
        "        elif 'PublicTest' in row['Usage']:\n",
        "           X_test.append(np.array(val,'float32'))\n",
        "           test_y.append(row['emotion'])\n",
        "    except:\n",
        "        print(f\"error occured at index :{index} and row:{row}\")\n",
        "\n"
      ],
      "execution_count": 0,
      "outputs": []
    },
    {
      "cell_type": "code",
      "metadata": {
        "id": "pHvl822XVVQD",
        "colab_type": "code",
        "colab": {}
      },
      "source": [
        "num_features = 64\n",
        "num_labels = 7\n",
        "batch_size = 64\n",
        "epochs = 50\n",
        "width, height = 48, 48\n",
        "\n",
        "\n",
        "X_train = np.array(X_train,'float32')\n",
        "train_y = np.array(train_y,'float32')\n",
        "X_test = np.array(X_test,'float32')\n",
        "test_y = np.array(test_y,'float32')\n",
        "\n",
        "train_y=np_utils.to_categorical(train_y, num_classes=num_labels)\n",
        "test_y=np_utils.to_categorical(test_y, num_classes=num_labels)\n"
      ],
      "execution_count": 0,
      "outputs": []
    },
    {
      "cell_type": "code",
      "metadata": {
        "id": "6KdCWgkOVYbo",
        "colab_type": "code",
        "colab": {}
      },
      "source": [
        "#cannot produce\n",
        "#normalizing data between oand 1\n",
        "X_train -= np.mean(X_train, axis=0)\n",
        "X_train /= np.std(X_train, axis=0)\n",
        "\n",
        "X_test -= np.mean(X_test, axis=0)\n",
        "X_test /= np.std(X_test, axis=0)\n",
        "\n",
        "X_train = X_train.reshape(X_train.shape[0], 48, 48, 1)\n",
        "\n",
        "X_test = X_test.reshape(X_test.shape[0], 48, 48, 1)\n"
      ],
      "execution_count": 0,
      "outputs": []
    },
    {
      "cell_type": "markdown",
      "metadata": {
        "id": "8iAayPekgZ_d",
        "colab_type": "text"
      },
      "source": [
        "# Cnn Model"
      ]
    },
    {
      "cell_type": "code",
      "metadata": {
        "id": "yDMbu6QAVhD2",
        "colab_type": "code",
        "colab": {}
      },
      "source": [
        "##designing the cnn\n",
        "#1st convolution layer\n",
        "model = Sequential()\n",
        "\n",
        "model.add(Conv2D(64, kernel_size=(3, 3), activation='relu', input_shape=(X_train.shape[1:])))\n",
        "model.add(Conv2D(64,kernel_size= (3, 3), activation='relu'))\n",
        "model.add(BatchNormalization())\n",
        "model.add(MaxPooling2D(pool_size=(2,2), strides=(2, 2)))\n",
        "model.add(Dropout(0.5))\n",
        "\n",
        "#2nd convolution layer\n",
        "model.add(Conv2D(64, (3, 3), activation='relu'))\n",
        "model.add(Conv2D(64, (3, 3), activation='relu'))\n",
        "model.add(BatchNormalization())\n",
        "model.add(MaxPooling2D(pool_size=(2,2), strides=(2, 2)))\n",
        "model.add(Dropout(0.5))\n",
        "\n",
        "#3rd convolution layer\n",
        "model.add(Conv2D(128, (3, 3), activation='relu'))\n",
        "model.add(Conv2D(128, (3, 3), activation='relu'))\n",
        "model.add(BatchNormalization())\n",
        "model.add(MaxPooling2D(pool_size=(2,2), strides=(2, 2)))\n",
        "\n",
        "model.add(Flatten())\n",
        "\n",
        "#fully connected neural networks\n",
        "model.add(Dense(1024, activation='relu'))\n",
        "model.add(Dropout(0.2))\n",
        "model.add(Dense(1024, activation='relu'))\n",
        "model.add(Dropout(0.2))\n",
        "\n",
        "model.add(Dense(num_labels, activation='softmax'))"
      ],
      "execution_count": 0,
      "outputs": []
    },
    {
      "cell_type": "code",
      "metadata": {
        "id": "MGw7-5VxVkow",
        "colab_type": "code",
        "outputId": "af55008e-e583-43f2-ded5-9543d7b79f7d",
        "colab": {
          "base_uri": "https://localhost:8080/",
          "height": 823
        }
      },
      "source": [
        "model.summary()"
      ],
      "execution_count": 111,
      "outputs": [
        {
          "output_type": "stream",
          "text": [
            "Model: \"sequential_28\"\n",
            "_________________________________________________________________\n",
            "Layer (type)                 Output Shape              Param #   \n",
            "=================================================================\n",
            "conv2d_163 (Conv2D)          (None, 46, 46, 64)        640       \n",
            "_________________________________________________________________\n",
            "conv2d_164 (Conv2D)          (None, 44, 44, 64)        36928     \n",
            "_________________________________________________________________\n",
            "batch_normalization_1 (Batch (None, 44, 44, 64)        256       \n",
            "_________________________________________________________________\n",
            "max_pooling2d_82 (MaxPooling (None, 22, 22, 64)        0         \n",
            "_________________________________________________________________\n",
            "dropout_109 (Dropout)        (None, 22, 22, 64)        0         \n",
            "_________________________________________________________________\n",
            "conv2d_165 (Conv2D)          (None, 20, 20, 64)        36928     \n",
            "_________________________________________________________________\n",
            "conv2d_166 (Conv2D)          (None, 18, 18, 64)        36928     \n",
            "_________________________________________________________________\n",
            "batch_normalization_2 (Batch (None, 18, 18, 64)        256       \n",
            "_________________________________________________________________\n",
            "max_pooling2d_83 (MaxPooling (None, 9, 9, 64)          0         \n",
            "_________________________________________________________________\n",
            "dropout_110 (Dropout)        (None, 9, 9, 64)          0         \n",
            "_________________________________________________________________\n",
            "conv2d_167 (Conv2D)          (None, 7, 7, 128)         73856     \n",
            "_________________________________________________________________\n",
            "conv2d_168 (Conv2D)          (None, 5, 5, 128)         147584    \n",
            "_________________________________________________________________\n",
            "batch_normalization_3 (Batch (None, 5, 5, 128)         512       \n",
            "_________________________________________________________________\n",
            "max_pooling2d_84 (MaxPooling (None, 2, 2, 128)         0         \n",
            "_________________________________________________________________\n",
            "flatten_28 (Flatten)         (None, 512)               0         \n",
            "_________________________________________________________________\n",
            "dense_82 (Dense)             (None, 1024)              525312    \n",
            "_________________________________________________________________\n",
            "dropout_111 (Dropout)        (None, 1024)              0         \n",
            "_________________________________________________________________\n",
            "dense_83 (Dense)             (None, 1024)              1049600   \n",
            "_________________________________________________________________\n",
            "dropout_112 (Dropout)        (None, 1024)              0         \n",
            "_________________________________________________________________\n",
            "dense_84 (Dense)             (None, 7)                 7175      \n",
            "=================================================================\n",
            "Total params: 1,915,975\n",
            "Trainable params: 1,915,463\n",
            "Non-trainable params: 512\n",
            "_________________________________________________________________\n"
          ],
          "name": "stdout"
        }
      ]
    },
    {
      "cell_type": "code",
      "metadata": {
        "id": "PspLafYOVob2",
        "colab_type": "code",
        "outputId": "1a5e2a53-b424-455b-cd35-fbf076af02bd",
        "colab": {
          "base_uri": "https://localhost:8080/",
          "height": 1000
        }
      },
      "source": [
        "#Compliling the model\n",
        "model.compile(loss=categorical_crossentropy,\n",
        "              optimizer=Adam(),\n",
        "              metrics=['accuracy'])\n",
        "\n",
        "#Training the model\n",
        "model.fit(X_train, train_y,\n",
        "          batch_size=batch_size,\n",
        "          epochs=epochs,\n",
        "          verbose=1,\n",
        "          validation_data=(X_test, test_y),\n",
        "          shuffle=True)"
      ],
      "execution_count": 112,
      "outputs": [
        {
          "output_type": "stream",
          "text": [
            "Train on 28709 samples, validate on 3589 samples\n",
            "Epoch 1/50\n",
            "28709/28709 [==============================] - 16s 552us/step - loss: 1.7096 - accuracy: 0.3230 - val_loss: 1.5478 - val_accuracy: 0.3876\n",
            "Epoch 2/50\n",
            "28709/28709 [==============================] - 15s 521us/step - loss: 1.4709 - accuracy: 0.4285 - val_loss: 1.4372 - val_accuracy: 0.4478\n",
            "Epoch 3/50\n",
            "28709/28709 [==============================] - 15s 515us/step - loss: 1.3558 - accuracy: 0.4793 - val_loss: 1.2813 - val_accuracy: 0.5130\n",
            "Epoch 4/50\n",
            "28709/28709 [==============================] - 15s 517us/step - loss: 1.2883 - accuracy: 0.5032 - val_loss: 1.2868 - val_accuracy: 0.5166\n",
            "Epoch 5/50\n",
            "28709/28709 [==============================] - 15s 511us/step - loss: 1.2257 - accuracy: 0.5321 - val_loss: 1.2191 - val_accuracy: 0.5350\n",
            "Epoch 6/50\n",
            "28709/28709 [==============================] - 15s 513us/step - loss: 1.1753 - accuracy: 0.5514 - val_loss: 1.2152 - val_accuracy: 0.5444\n",
            "Epoch 7/50\n",
            "28709/28709 [==============================] - 15s 514us/step - loss: 1.1324 - accuracy: 0.5632 - val_loss: 1.1714 - val_accuracy: 0.5598\n",
            "Epoch 8/50\n",
            "28709/28709 [==============================] - 15s 515us/step - loss: 1.0916 - accuracy: 0.5818 - val_loss: 1.1773 - val_accuracy: 0.5637\n",
            "Epoch 9/50\n",
            "28709/28709 [==============================] - 15s 513us/step - loss: 1.0563 - accuracy: 0.6002 - val_loss: 1.1602 - val_accuracy: 0.5648\n",
            "Epoch 10/50\n",
            "28709/28709 [==============================] - 15s 511us/step - loss: 1.0164 - accuracy: 0.6133 - val_loss: 1.1948 - val_accuracy: 0.5676\n",
            "Epoch 11/50\n",
            "28709/28709 [==============================] - 15s 513us/step - loss: 0.9717 - accuracy: 0.6300 - val_loss: 1.1630 - val_accuracy: 0.5715\n",
            "Epoch 12/50\n",
            "28709/28709 [==============================] - 15s 512us/step - loss: 0.9402 - accuracy: 0.6452 - val_loss: 1.1761 - val_accuracy: 0.5893\n",
            "Epoch 13/50\n",
            "28709/28709 [==============================] - 15s 516us/step - loss: 0.9038 - accuracy: 0.6561 - val_loss: 1.2071 - val_accuracy: 0.5862\n",
            "Epoch 14/50\n",
            "28709/28709 [==============================] - 15s 515us/step - loss: 0.8645 - accuracy: 0.6724 - val_loss: 1.1699 - val_accuracy: 0.5921\n",
            "Epoch 15/50\n",
            "28709/28709 [==============================] - 15s 512us/step - loss: 0.8299 - accuracy: 0.6835 - val_loss: 1.2032 - val_accuracy: 0.6032\n",
            "Epoch 16/50\n",
            "28709/28709 [==============================] - 15s 511us/step - loss: 0.7882 - accuracy: 0.6957 - val_loss: 1.2060 - val_accuracy: 0.5837\n",
            "Epoch 17/50\n",
            "28709/28709 [==============================] - 15s 510us/step - loss: 0.7507 - accuracy: 0.7187 - val_loss: 1.2024 - val_accuracy: 0.5910\n",
            "Epoch 18/50\n",
            "28709/28709 [==============================] - 15s 511us/step - loss: 0.7153 - accuracy: 0.7279 - val_loss: 1.2716 - val_accuracy: 0.5935\n",
            "Epoch 19/50\n",
            "28709/28709 [==============================] - 15s 510us/step - loss: 0.6772 - accuracy: 0.7466 - val_loss: 1.2635 - val_accuracy: 0.5982\n",
            "Epoch 20/50\n",
            "28709/28709 [==============================] - 15s 510us/step - loss: 0.6394 - accuracy: 0.7628 - val_loss: 1.3146 - val_accuracy: 0.5999\n",
            "Epoch 21/50\n",
            "28709/28709 [==============================] - 15s 510us/step - loss: 0.6104 - accuracy: 0.7709 - val_loss: 1.3517 - val_accuracy: 0.6038\n",
            "Epoch 22/50\n",
            "28709/28709 [==============================] - 15s 509us/step - loss: 0.5739 - accuracy: 0.7859 - val_loss: 1.3146 - val_accuracy: 0.5913\n",
            "Epoch 23/50\n",
            "28709/28709 [==============================] - 15s 510us/step - loss: 0.5486 - accuracy: 0.7963 - val_loss: 1.3775 - val_accuracy: 0.5965\n",
            "Epoch 24/50\n",
            "28709/28709 [==============================] - 15s 506us/step - loss: 0.5273 - accuracy: 0.8049 - val_loss: 1.4328 - val_accuracy: 0.5940\n",
            "Epoch 25/50\n",
            "28709/28709 [==============================] - 15s 510us/step - loss: 0.5063 - accuracy: 0.8124 - val_loss: 1.4402 - val_accuracy: 0.5985\n",
            "Epoch 26/50\n",
            "28709/28709 [==============================] - 15s 506us/step - loss: 0.4778 - accuracy: 0.8253 - val_loss: 1.4877 - val_accuracy: 0.5957\n",
            "Epoch 27/50\n",
            "28709/28709 [==============================] - 15s 505us/step - loss: 0.4639 - accuracy: 0.8287 - val_loss: 1.5014 - val_accuracy: 0.6024\n",
            "Epoch 28/50\n",
            "28709/28709 [==============================] - 15s 506us/step - loss: 0.4370 - accuracy: 0.8397 - val_loss: 1.5090 - val_accuracy: 0.5957\n",
            "Epoch 29/50\n",
            "28709/28709 [==============================] - 15s 506us/step - loss: 0.4200 - accuracy: 0.8479 - val_loss: 1.5201 - val_accuracy: 0.5952\n",
            "Epoch 30/50\n",
            "28709/28709 [==============================] - 15s 507us/step - loss: 0.4095 - accuracy: 0.8534 - val_loss: 1.5681 - val_accuracy: 0.5913\n",
            "Epoch 31/50\n",
            "28709/28709 [==============================] - 15s 506us/step - loss: 0.3997 - accuracy: 0.8546 - val_loss: 1.5885 - val_accuracy: 0.6007\n",
            "Epoch 32/50\n",
            "28709/28709 [==============================] - 15s 508us/step - loss: 0.3808 - accuracy: 0.8645 - val_loss: 1.5310 - val_accuracy: 0.6016\n",
            "Epoch 33/50\n",
            "28709/28709 [==============================] - 15s 506us/step - loss: 0.3703 - accuracy: 0.8661 - val_loss: 1.6199 - val_accuracy: 0.5938\n",
            "Epoch 34/50\n",
            "28709/28709 [==============================] - 15s 507us/step - loss: 0.3555 - accuracy: 0.8717 - val_loss: 1.5947 - val_accuracy: 0.6013\n",
            "Epoch 35/50\n",
            "28709/28709 [==============================] - 15s 507us/step - loss: 0.3453 - accuracy: 0.8751 - val_loss: 1.5879 - val_accuracy: 0.5960\n",
            "Epoch 36/50\n",
            "28709/28709 [==============================] - 15s 506us/step - loss: 0.3306 - accuracy: 0.8789 - val_loss: 1.6628 - val_accuracy: 0.6007\n",
            "Epoch 37/50\n",
            "28709/28709 [==============================] - 15s 507us/step - loss: 0.3169 - accuracy: 0.8875 - val_loss: 1.7510 - val_accuracy: 0.5985\n",
            "Epoch 38/50\n",
            "28709/28709 [==============================] - 15s 506us/step - loss: 0.3142 - accuracy: 0.8878 - val_loss: 1.7268 - val_accuracy: 0.5882\n",
            "Epoch 39/50\n",
            "28709/28709 [==============================] - 15s 508us/step - loss: 0.3046 - accuracy: 0.8908 - val_loss: 1.6359 - val_accuracy: 0.6082\n",
            "Epoch 40/50\n",
            "28709/28709 [==============================] - 15s 506us/step - loss: 0.2983 - accuracy: 0.8949 - val_loss: 1.7542 - val_accuracy: 0.5952\n",
            "Epoch 41/50\n",
            "28709/28709 [==============================] - 15s 507us/step - loss: 0.2879 - accuracy: 0.8995 - val_loss: 1.7654 - val_accuracy: 0.6043\n",
            "Epoch 42/50\n",
            "28709/28709 [==============================] - 15s 506us/step - loss: 0.2862 - accuracy: 0.8971 - val_loss: 1.7223 - val_accuracy: 0.6018\n",
            "Epoch 43/50\n",
            "28709/28709 [==============================] - 15s 507us/step - loss: 0.2768 - accuracy: 0.9023 - val_loss: 1.7500 - val_accuracy: 0.5954\n",
            "Epoch 44/50\n",
            "28709/28709 [==============================] - 15s 505us/step - loss: 0.2749 - accuracy: 0.9024 - val_loss: 1.7156 - val_accuracy: 0.6063\n",
            "Epoch 45/50\n",
            "28709/28709 [==============================] - 15s 507us/step - loss: 0.2698 - accuracy: 0.9055 - val_loss: 1.8099 - val_accuracy: 0.6016\n",
            "Epoch 46/50\n",
            "28709/28709 [==============================] - 15s 512us/step - loss: 0.2700 - accuracy: 0.9062 - val_loss: 1.8500 - val_accuracy: 0.6038\n",
            "Epoch 47/50\n",
            "28709/28709 [==============================] - 15s 507us/step - loss: 0.2462 - accuracy: 0.9137 - val_loss: 1.8646 - val_accuracy: 0.6038\n",
            "Epoch 48/50\n",
            "28709/28709 [==============================] - 15s 505us/step - loss: 0.2432 - accuracy: 0.9148 - val_loss: 1.8717 - val_accuracy: 0.5971\n",
            "Epoch 49/50\n",
            "28709/28709 [==============================] - 15s 506us/step - loss: 0.2463 - accuracy: 0.9134 - val_loss: 1.9173 - val_accuracy: 0.6018\n",
            "Epoch 50/50\n",
            "28709/28709 [==============================] - 15s 507us/step - loss: 0.2467 - accuracy: 0.9137 - val_loss: 1.8521 - val_accuracy: 0.6007\n"
          ],
          "name": "stdout"
        },
        {
          "output_type": "execute_result",
          "data": {
            "text/plain": [
              "<keras.callbacks.callbacks.History at 0x7f5cedb5d3c8>"
            ]
          },
          "metadata": {
            "tags": []
          },
          "execution_count": 112
        }
      ]
    },
    {
      "cell_type": "code",
      "metadata": {
        "id": "dfXCmo4AyqNh",
        "colab_type": "code",
        "outputId": "131889fb-5b48-4d65-ce8c-a2fe78e87d75",
        "colab": {
          "base_uri": "https://localhost:8080/",
          "height": 50
        }
      },
      "source": [
        "loss, accuracy = model.evaluate(X_test, test_y)\n",
        "print(accuracy)#accuarcy with relu function=0.600724458694458 in 50 epoch\n",
        "#accuracy with elu function = 0.569796621799469 in 50 epoch"
      ],
      "execution_count": 113,
      "outputs": [
        {
          "output_type": "stream",
          "text": [
            "3589/3589 [==============================] - 1s 192us/step\n",
            "0.600724458694458\n"
          ],
          "name": "stdout"
        }
      ]
    },
    {
      "cell_type": "code",
      "metadata": {
        "id": "eYERRtCU5PaC",
        "colab_type": "code",
        "outputId": "5db43293-1203-4174-bd59-abe31f6bacd0",
        "colab": {
          "base_uri": "https://localhost:8080/",
          "height": 84
        }
      },
      "source": [
        "print(np.shape(X_train))\n",
        "print(np.shape(train_y))\n",
        "print(np.shape(X_test))\n",
        "print(np.shape(test_y))"
      ],
      "execution_count": 35,
      "outputs": [
        {
          "output_type": "stream",
          "text": [
            "(28709, 48, 48, 1)\n",
            "(28709, 7)\n",
            "(3589, 48, 48, 1)\n",
            "(3589, 7)\n"
          ],
          "name": "stdout"
        }
      ]
    },
    {
      "cell_type": "markdown",
      "metadata": {
        "id": "U761QHKoglpH",
        "colab_type": "text"
      },
      "source": [
        "# Saving The Model"
      ]
    },
    {
      "cell_type": "code",
      "metadata": {
        "id": "mJkaN6NOVwAM",
        "colab_type": "code",
        "colab": {}
      },
      "source": [
        "#Saving the  model to  use it later on\n",
        "fer_json = model.to_json()\n",
        "with open(\"fer.json\", \"w\") as json_file:\n",
        "    json_file.write(fer_json)\n",
        "model.save_weights(\"fer.h5\")"
      ],
      "execution_count": 0,
      "outputs": []
    },
    {
      "cell_type": "code",
      "metadata": {
        "id": "eF5-S-59x18k",
        "colab_type": "code",
        "colab": {}
      },
      "source": [
        "def create_model(learning_rate=0.01, activation='relu'):\n",
        "\n",
        "  model = Sequential()\n",
        "\n",
        "  model.add(Conv2D(64, kernel_size=(3, 3), activation = activation, input_shape=(X_train.shape[1:])))\n",
        "  model.add(Conv2D(64,kernel_size= (3, 3),activation = activation))\n",
        "# model.add(BatchNormalization())\n",
        "  model.add(MaxPooling2D(pool_size=(2,2), strides=(2, 2)))\n",
        "  model.add(Dropout(0.5))\n",
        "\n",
        "#2nd convolution layer\n",
        "  model.add(Conv2D(64, (3, 3), activation = activation))\n",
        "  model.add(Conv2D(64, (3, 3), activation = activation))\n",
        "# model.add(BatchNormalization())\n",
        "  model.add(MaxPooling2D(pool_size=(2,2), strides=(2, 2)))\n",
        "  model.add(Dropout(0.5))\n",
        "\n",
        "#3rd convolution layer\n",
        "  model.add(Conv2D(128, (3, 3), activation = activation))\n",
        "  model.add(Conv2D(128, (3, 3), activation = activation))\n",
        "# model.add(BatchNormalization())\n",
        "  model.add(MaxPooling2D(pool_size=(2,2), strides=(2, 2)))\n",
        "\n",
        "  model.add(Flatten())\n",
        "\n",
        "#fully connected neural networks\n",
        "  model.add(Dense(1024, activation = activation))\n",
        "  model.add(Dropout(0.2))\n",
        "  model.add(Dense(1024,activation = activation))\n",
        "  model.add(Dropout(0.2))\n",
        "\n",
        "  model.add(Dense(num_labels, activation='softmax'))\n",
        "\n",
        "# model.summary()\n",
        "\n",
        "#Compliling the model\n",
        "  model.compile(loss=categorical_crossentropy,optimizer=Adam(),metrics=['accuracy'])\n",
        "  return model"
      ],
      "execution_count": 0,
      "outputs": []
    },
    {
      "cell_type": "markdown",
      "metadata": {
        "id": "WjY_-_AOgsiF",
        "colab_type": "text"
      },
      "source": [
        "# Hyperparameter tuning\n"
      ]
    },
    {
      "cell_type": "code",
      "metadata": {
        "id": "CYAiVy7r0734",
        "colab_type": "code",
        "colab": {}
      },
      "source": [
        "\n",
        "# Create a KerasClassifier\n",
        "model = KerasRegressor(build_fn = create_model,\n",
        "                       verbose = 0)\n",
        "\n",
        "# Define the parameters to try out\n",
        "params = {'activation': [\"relu\",\"elu\"],\n",
        "          'batch_size': [32,64], \n",
        "          'epochs': [10,50]}\n",
        "          # 'learning_rate': [0.01, 0.001, 0.0001,0.00001]}\n",
        "\n",
        "# Create a randomize search cv object passing in the parameters to try\n",
        "random_search = RandomizedSearchCV(model,\n",
        "                                   param_distributions = params,\n",
        "                                   cv = KFold(10))\n"
      ],
      "execution_count": 0,
      "outputs": []
    },
    {
      "cell_type": "code",
      "metadata": {
        "id": "ZGTESj0ey7I6",
        "colab_type": "code",
        "colab": {}
      },
      "source": [
        "random_search_results = random_search.fit(X_train, train_y)"
      ],
      "execution_count": 0,
      "outputs": []
    },
    {
      "cell_type": "code",
      "metadata": {
        "id": "b3YL0ufg0Fle",
        "colab_type": "code",
        "colab": {}
      },
      "source": [
        "print(\"Best Score: \", random_search_results.best_score_, \"and Best Params: \", random_search_results.best_params_)"
      ],
      "execution_count": 0,
      "outputs": []
    },
    {
      "cell_type": "code",
      "metadata": {
        "id": "GmoO5IxYk1CM",
        "colab_type": "code",
        "colab": {}
      },
      "source": [
        ""
      ],
      "execution_count": 0,
      "outputs": []
    }
  ]
}