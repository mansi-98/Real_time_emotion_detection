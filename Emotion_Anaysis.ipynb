{
  "nbformat": 4,
  "nbformat_minor": 0,
  "metadata": {
    "colab": {
      "name": "Emotion_Anaysis.ipynb",
      "provenance": [],
      "collapsed_sections": [],
      "include_colab_link": true
    },
    "kernelspec": {
      "name": "python3",
      "display_name": "Python 3"
    },
    "accelerator": "GPU"
  },
  "cells": [
    {
      "cell_type": "markdown",
      "metadata": {
        "id": "view-in-github",
        "colab_type": "text"
      },
      "source": [
        "<a href=\"https://colab.research.google.com/github/mansi-98/Real_time_emotion_detection/blob/master/Emotion_Anaysis.ipynb\" target=\"_parent\"><img src=\"https://colab.research.google.com/assets/colab-badge.svg\" alt=\"Open In Colab\"/></a>"
      ]
    },
    {
      "cell_type": "code",
      "metadata": {
        "id": "kN1sqLpV1bqR",
        "colab_type": "code",
        "outputId": "97e88405-6cfc-48ca-8c56-60774d89b2c0",
        "colab": {
          "base_uri": "https://localhost:8080/",
          "height": 34
        }
      },
      "source": [
        "from google.colab import drive\n",
        "drive.mount('/content/gdrive')"
      ],
      "execution_count": 103,
      "outputs": [
        {
          "output_type": "stream",
          "text": [
            "Drive already mounted at /content/gdrive; to attempt to forcibly remount, call drive.mount(\"/content/gdrive\", force_remount=True).\n"
          ],
          "name": "stdout"
        }
      ]
    },
    {
      "cell_type": "markdown",
      "metadata": {
        "id": "iWzsI_mRluUx",
        "colab_type": "text"
      },
      "source": [
        "## **Importing** **Libraries** "
      ]
    },
    {
      "cell_type": "code",
      "metadata": {
        "id": "E5VVSY5DVHvO",
        "colab_type": "code",
        "colab": {}
      },
      "source": [
        "import sys, os\n",
        "import pandas as pd\n",
        "import numpy as np\n",
        "\n",
        "from keras.models import Sequential\n",
        "from keras.layers import Dense, Dropout, Activation, Flatten\n",
        "from keras.layers import Conv2D, MaxPooling2D, BatchNormalization,AveragePooling2D\n",
        "from keras.losses import categorical_crossentropy\n",
        "from keras.optimizers import Adam\n",
        "from keras.regularizers import l2\n",
        "from keras.utils import np_utils"
      ],
      "execution_count": 0,
      "outputs": []
    },
    {
      "cell_type": "code",
      "metadata": {
        "id": "JdTyWjL03r8i",
        "colab_type": "code",
        "colab": {}
      },
      "source": [
        "from keras.wrappers.scikit_learn import KerasRegressor\n",
        "from sklearn.model_selection import RandomizedSearchCV, KFold, cross_val_score\n",
        "from keras.optimizers import Adam\n",
        "from keras import regularizers\n",
        "from sklearn.model_selection import GridSearchCV"
      ],
      "execution_count": 0,
      "outputs": []
    },
    {
      "cell_type": "markdown",
      "metadata": {
        "id": "pAupExyCfDGO",
        "colab_type": "text"
      },
      "source": [
        "#Loading the FER2013 dataset"
      ]
    },
    {
      "cell_type": "code",
      "metadata": {
        "id": "0NaB9Z3M4Kz9",
        "colab_type": "code",
        "outputId": "c40c7614-d086-4eb5-a840-ff57d9b451e4",
        "colab": {
          "base_uri": "https://localhost:8080/",
          "height": 118
        }
      },
      "source": [
        "\n",
        "df=pd.read_csv('/content/gdrive/My Drive/Realtime-Emotion-Detection/fer2013.csv')\n",
        "# print(df.info())\n",
        "# print(df[\"Usage\"].value_counts())\n",
        "\n",
        "print(df.head())"
      ],
      "execution_count": 133,
      "outputs": [
        {
          "output_type": "stream",
          "text": [
            "   emotion                                             pixels     Usage\n",
            "0        0  70 80 82 72 58 58 60 63 54 58 60 48 89 115 121...  Training\n",
            "1        0  151 150 147 155 148 133 111 140 170 174 182 15...  Training\n",
            "2        2  231 212 156 164 174 138 161 173 182 200 106 38...  Training\n",
            "3        4  24 32 36 30 32 23 19 20 30 41 21 22 32 34 21 1...  Training\n",
            "4        6  4 0 0 0 0 0 0 0 0 0 0 0 3 15 23 28 48 50 58 84...  Training\n"
          ],
          "name": "stdout"
        }
      ]
    },
    {
      "cell_type": "markdown",
      "metadata": {
        "id": "2lhp5f6kfGMZ",
        "colab_type": "text"
      },
      "source": [
        "# Data preparation\n"
      ]
    },
    {
      "cell_type": "code",
      "metadata": {
        "id": "wVnqaIJHVPuG",
        "colab_type": "code",
        "colab": {}
      },
      "source": [
        "X_train,train_y,X_test,test_y=[],[],[],[]\n",
        "\n",
        "for index, row in df.iterrows():\n",
        "    val=row['pixels'].split(\" \")\n",
        "    try:\n",
        "        if 'Training' in row['Usage']:\n",
        "           X_train.append(np.array(val,'float32'))\n",
        "           train_y.append(row['emotion'])\n",
        "        elif 'PublicTest' in row['Usage']:\n",
        "           X_test.append(np.array(val,'float32'))\n",
        "           test_y.append(row['emotion'])\n",
        "    except:\n",
        "        print(f\"error occured at index :{index} and row:{row}\")\n",
        "\n"
      ],
      "execution_count": 0,
      "outputs": []
    },
    {
      "cell_type": "code",
      "metadata": {
        "id": "pHvl822XVVQD",
        "colab_type": "code",
        "colab": {}
      },
      "source": [
        "num_features = 64\n",
        "num_labels = 7\n",
        "batch_size = 64\n",
        "epochs = 200\n",
        "width, height = 48, 48\n",
        "\n",
        "\n",
        "X_train = np.array(X_train,'float32')\n",
        "train_y = np.array(train_y,'float32')\n",
        "X_test = np.array(X_test,'float32')\n",
        "test_y = np.array(test_y,'float32')\n",
        "\n",
        "train_y=np_utils.to_categorical(train_y, num_classes=num_labels)\n",
        "test_y=np_utils.to_categorical(test_y, num_classes=num_labels)\n"
      ],
      "execution_count": 0,
      "outputs": []
    },
    {
      "cell_type": "code",
      "metadata": {
        "id": "6KdCWgkOVYbo",
        "colab_type": "code",
        "colab": {}
      },
      "source": [
        "#cannot produce\n",
        "#normalizing data between oand 1\n",
        "X_train -= np.mean(X_train, axis=0)\n",
        "X_train /= np.std(X_train, axis=0)\n",
        "\n",
        "X_test -= np.mean(X_test, axis=0)\n",
        "X_test /= np.std(X_test, axis=0)\n",
        "\n",
        "X_train = X_train.reshape(X_train.shape[0], 48, 48, 1)\n",
        "\n",
        "X_test = X_test.reshape(X_test.shape[0], 48, 48, 1)\n"
      ],
      "execution_count": 0,
      "outputs": []
    },
    {
      "cell_type": "markdown",
      "metadata": {
        "id": "8iAayPekgZ_d",
        "colab_type": "text"
      },
      "source": [
        "# Cnn Model"
      ]
    },
    {
      "cell_type": "code",
      "metadata": {
        "id": "yDMbu6QAVhD2",
        "colab_type": "code",
        "colab": {}
      },
      "source": [
        "##designing the cnn\n",
        "#1st convolution layer\n",
        "model = Sequential()\n",
        "\n",
        "model.add(Conv2D(64, kernel_size=(3, 3), activation='relu', input_shape=(X_train.shape[1:])))\n",
        "model.add(Conv2D(64,kernel_size= (3, 3), activation='relu'))\n",
        "model.add(BatchNormalization())\n",
        "model.add(MaxPooling2D(pool_size=(2,2), strides=(2, 2)))\n",
        "model.add(Dropout(0.5))\n",
        "\n",
        "#2nd convolution layer\n",
        "model.add(Conv2D(64, (3, 3), activation='relu'))\n",
        "model.add(Conv2D(64, (3, 3), activation='relu'))\n",
        "model.add(BatchNormalization())\n",
        "model.add(MaxPooling2D(pool_size=(2,2), strides=(2, 2)))\n",
        "model.add(Dropout(0.5))\n",
        "\n",
        "#3rd convolution layer\n",
        "model.add(Conv2D(128, (3, 3), activation='relu'))\n",
        "model.add(Conv2D(128, (3, 3), activation='relu'))\n",
        "model.add(BatchNormalization())\n",
        "model.add(MaxPooling2D(pool_size=(2,2), strides=(2, 2)))\n",
        "\n",
        "model.add(Flatten())\n",
        "\n",
        "#fully connected neural networks\n",
        "model.add(Dense(1024, activation='relu'))\n",
        "model.add(Dropout(0.2))\n",
        "model.add(Dense(1024, activation='relu'))\n",
        "model.add(Dropout(0.2))\n",
        "\n",
        "model.add(Dense(num_labels, activation='softmax'))"
      ],
      "execution_count": 0,
      "outputs": []
    },
    {
      "cell_type": "code",
      "metadata": {
        "id": "MGw7-5VxVkow",
        "colab_type": "code",
        "outputId": "fd6e1714-74e2-4d9c-cfc1-a2a735bed5bc",
        "colab": {
          "base_uri": "https://localhost:8080/",
          "height": 823
        }
      },
      "source": [
        "model.summary()"
      ],
      "execution_count": 138,
      "outputs": [
        {
          "output_type": "stream",
          "text": [
            "Model: \"sequential_31\"\n",
            "_________________________________________________________________\n",
            "Layer (type)                 Output Shape              Param #   \n",
            "=================================================================\n",
            "conv2d_181 (Conv2D)          (None, 46, 46, 64)        640       \n",
            "_________________________________________________________________\n",
            "conv2d_182 (Conv2D)          (None, 44, 44, 64)        36928     \n",
            "_________________________________________________________________\n",
            "batch_normalization_10 (Batc (None, 44, 44, 64)        256       \n",
            "_________________________________________________________________\n",
            "max_pooling2d_91 (MaxPooling (None, 22, 22, 64)        0         \n",
            "_________________________________________________________________\n",
            "dropout_121 (Dropout)        (None, 22, 22, 64)        0         \n",
            "_________________________________________________________________\n",
            "conv2d_183 (Conv2D)          (None, 20, 20, 64)        36928     \n",
            "_________________________________________________________________\n",
            "conv2d_184 (Conv2D)          (None, 18, 18, 64)        36928     \n",
            "_________________________________________________________________\n",
            "batch_normalization_11 (Batc (None, 18, 18, 64)        256       \n",
            "_________________________________________________________________\n",
            "max_pooling2d_92 (MaxPooling (None, 9, 9, 64)          0         \n",
            "_________________________________________________________________\n",
            "dropout_122 (Dropout)        (None, 9, 9, 64)          0         \n",
            "_________________________________________________________________\n",
            "conv2d_185 (Conv2D)          (None, 7, 7, 128)         73856     \n",
            "_________________________________________________________________\n",
            "conv2d_186 (Conv2D)          (None, 5, 5, 128)         147584    \n",
            "_________________________________________________________________\n",
            "batch_normalization_12 (Batc (None, 5, 5, 128)         512       \n",
            "_________________________________________________________________\n",
            "max_pooling2d_93 (MaxPooling (None, 2, 2, 128)         0         \n",
            "_________________________________________________________________\n",
            "flatten_31 (Flatten)         (None, 512)               0         \n",
            "_________________________________________________________________\n",
            "dense_91 (Dense)             (None, 1024)              525312    \n",
            "_________________________________________________________________\n",
            "dropout_123 (Dropout)        (None, 1024)              0         \n",
            "_________________________________________________________________\n",
            "dense_92 (Dense)             (None, 1024)              1049600   \n",
            "_________________________________________________________________\n",
            "dropout_124 (Dropout)        (None, 1024)              0         \n",
            "_________________________________________________________________\n",
            "dense_93 (Dense)             (None, 7)                 7175      \n",
            "=================================================================\n",
            "Total params: 1,915,975\n",
            "Trainable params: 1,915,463\n",
            "Non-trainable params: 512\n",
            "_________________________________________________________________\n"
          ],
          "name": "stdout"
        }
      ]
    },
    {
      "cell_type": "code",
      "metadata": {
        "id": "PspLafYOVob2",
        "colab_type": "code",
        "outputId": "54189217-61db-4b01-f019-52019189910c",
        "colab": {
          "base_uri": "https://localhost:8080/",
          "height": 1000
        }
      },
      "source": [
        "#Compliling the model\n",
        "model.compile(loss=categorical_crossentropy,\n",
        "              optimizer=Adam(),\n",
        "              metrics=['accuracy'])\n",
        "\n",
        "#Training the model\n",
        "model.fit(X_train, train_y,\n",
        "          batch_size=batch_size,\n",
        "          epochs=epochs,\n",
        "          verbose=1,\n",
        "          validation_data=(X_test, test_y),\n",
        "          shuffle=True)"
      ],
      "execution_count": 139,
      "outputs": [
        {
          "output_type": "stream",
          "text": [
            "Train on 28709 samples, validate on 3589 samples\n",
            "Epoch 1/200\n",
            "28709/28709 [==============================] - 16s 541us/step - loss: 1.7159 - accuracy: 0.3162 - val_loss: 1.5948 - val_accuracy: 0.3853\n",
            "Epoch 2/200\n",
            "28709/28709 [==============================] - 15s 513us/step - loss: 1.4874 - accuracy: 0.4206 - val_loss: 1.3972 - val_accuracy: 0.4531\n",
            "Epoch 3/200\n",
            "28709/28709 [==============================] - 15s 511us/step - loss: 1.3559 - accuracy: 0.4784 - val_loss: 1.4407 - val_accuracy: 0.4508\n",
            "Epoch 4/200\n",
            "28709/28709 [==============================] - 15s 507us/step - loss: 1.2848 - accuracy: 0.5125 - val_loss: 1.2607 - val_accuracy: 0.5099\n",
            "Epoch 5/200\n",
            "28709/28709 [==============================] - 15s 506us/step - loss: 1.2224 - accuracy: 0.5336 - val_loss: 1.2551 - val_accuracy: 0.5255\n",
            "Epoch 6/200\n",
            "28709/28709 [==============================] - 15s 508us/step - loss: 1.1720 - accuracy: 0.5536 - val_loss: 1.2932 - val_accuracy: 0.5274\n",
            "Epoch 7/200\n",
            "28709/28709 [==============================] - 14s 505us/step - loss: 1.1236 - accuracy: 0.5707 - val_loss: 1.1781 - val_accuracy: 0.5662\n",
            "Epoch 8/200\n",
            "28709/28709 [==============================] - 14s 503us/step - loss: 1.0810 - accuracy: 0.5892 - val_loss: 1.1780 - val_accuracy: 0.5573\n",
            "Epoch 9/200\n",
            "28709/28709 [==============================] - 14s 503us/step - loss: 1.0407 - accuracy: 0.6031 - val_loss: 1.1589 - val_accuracy: 0.5731\n",
            "Epoch 10/200\n",
            "28709/28709 [==============================] - 14s 503us/step - loss: 1.0100 - accuracy: 0.6150 - val_loss: 1.1729 - val_accuracy: 0.5790\n",
            "Epoch 11/200\n",
            "28709/28709 [==============================] - 14s 503us/step - loss: 0.9690 - accuracy: 0.6311 - val_loss: 1.1597 - val_accuracy: 0.5846\n",
            "Epoch 12/200\n",
            "28709/28709 [==============================] - 14s 503us/step - loss: 0.9223 - accuracy: 0.6470 - val_loss: 1.1235 - val_accuracy: 0.5940\n",
            "Epoch 13/200\n",
            "28709/28709 [==============================] - 14s 503us/step - loss: 0.8809 - accuracy: 0.6649 - val_loss: 1.1666 - val_accuracy: 0.5899\n",
            "Epoch 14/200\n",
            "28709/28709 [==============================] - 14s 504us/step - loss: 0.8578 - accuracy: 0.6729 - val_loss: 1.1611 - val_accuracy: 0.5938\n",
            "Epoch 15/200\n",
            "28709/28709 [==============================] - 14s 504us/step - loss: 0.8059 - accuracy: 0.6945 - val_loss: 1.2301 - val_accuracy: 0.5865\n",
            "Epoch 16/200\n",
            "28709/28709 [==============================] - 14s 503us/step - loss: 0.7702 - accuracy: 0.7067 - val_loss: 1.2132 - val_accuracy: 0.5968\n",
            "Epoch 17/200\n",
            "28709/28709 [==============================] - 14s 504us/step - loss: 0.7313 - accuracy: 0.7257 - val_loss: 1.2308 - val_accuracy: 0.5854\n",
            "Epoch 18/200\n",
            "28709/28709 [==============================] - 14s 502us/step - loss: 0.6904 - accuracy: 0.7396 - val_loss: 1.3052 - val_accuracy: 0.5977\n",
            "Epoch 19/200\n",
            "28709/28709 [==============================] - 14s 502us/step - loss: 0.6573 - accuracy: 0.7496 - val_loss: 1.2456 - val_accuracy: 0.5929\n",
            "Epoch 20/200\n",
            "28709/28709 [==============================] - 14s 502us/step - loss: 0.6245 - accuracy: 0.7678 - val_loss: 1.3299 - val_accuracy: 0.5943\n",
            "Epoch 21/200\n",
            "28709/28709 [==============================] - 14s 502us/step - loss: 0.5946 - accuracy: 0.7787 - val_loss: 1.3669 - val_accuracy: 0.5952\n",
            "Epoch 22/200\n",
            "28709/28709 [==============================] - 14s 505us/step - loss: 0.5681 - accuracy: 0.7886 - val_loss: 1.2640 - val_accuracy: 0.6110\n",
            "Epoch 23/200\n",
            "28709/28709 [==============================] - 15s 510us/step - loss: 0.5251 - accuracy: 0.8032 - val_loss: 1.3578 - val_accuracy: 0.6096\n",
            "Epoch 24/200\n",
            "28709/28709 [==============================] - 15s 511us/step - loss: 0.5180 - accuracy: 0.8101 - val_loss: 1.3687 - val_accuracy: 0.5988\n",
            "Epoch 25/200\n",
            "28709/28709 [==============================] - 15s 510us/step - loss: 0.4879 - accuracy: 0.8206 - val_loss: 1.4515 - val_accuracy: 0.6071\n",
            "Epoch 26/200\n",
            "28709/28709 [==============================] - 15s 510us/step - loss: 0.4669 - accuracy: 0.8287 - val_loss: 1.4532 - val_accuracy: 0.6021\n",
            "Epoch 27/200\n",
            "28709/28709 [==============================] - 15s 511us/step - loss: 0.4454 - accuracy: 0.8370 - val_loss: 1.5077 - val_accuracy: 0.6013\n",
            "Epoch 28/200\n",
            "28709/28709 [==============================] - 15s 512us/step - loss: 0.4194 - accuracy: 0.8450 - val_loss: 1.5372 - val_accuracy: 0.5982\n",
            "Epoch 29/200\n",
            "28709/28709 [==============================] - 15s 510us/step - loss: 0.4095 - accuracy: 0.8531 - val_loss: 1.5225 - val_accuracy: 0.6004\n",
            "Epoch 30/200\n",
            "28709/28709 [==============================] - 15s 508us/step - loss: 0.3984 - accuracy: 0.8551 - val_loss: 1.5516 - val_accuracy: 0.6038\n",
            "Epoch 31/200\n",
            "28709/28709 [==============================] - 15s 511us/step - loss: 0.3822 - accuracy: 0.8603 - val_loss: 1.5525 - val_accuracy: 0.6096\n",
            "Epoch 32/200\n",
            "28709/28709 [==============================] - 15s 510us/step - loss: 0.3715 - accuracy: 0.8650 - val_loss: 1.6552 - val_accuracy: 0.5985\n",
            "Epoch 33/200\n",
            "28709/28709 [==============================] - 15s 513us/step - loss: 0.3569 - accuracy: 0.8699 - val_loss: 1.6726 - val_accuracy: 0.6077\n",
            "Epoch 34/200\n",
            "28709/28709 [==============================] - 15s 510us/step - loss: 0.3510 - accuracy: 0.8733 - val_loss: 1.5672 - val_accuracy: 0.6038\n",
            "Epoch 35/200\n",
            "28709/28709 [==============================] - 15s 510us/step - loss: 0.3329 - accuracy: 0.8812 - val_loss: 1.6653 - val_accuracy: 0.6049\n",
            "Epoch 36/200\n",
            "28709/28709 [==============================] - 15s 510us/step - loss: 0.3229 - accuracy: 0.8854 - val_loss: 1.6770 - val_accuracy: 0.5982\n",
            "Epoch 37/200\n",
            "28709/28709 [==============================] - 15s 510us/step - loss: 0.3090 - accuracy: 0.8884 - val_loss: 1.7225 - val_accuracy: 0.5879\n",
            "Epoch 38/200\n",
            "28709/28709 [==============================] - 15s 513us/step - loss: 0.3027 - accuracy: 0.8913 - val_loss: 1.7528 - val_accuracy: 0.5954\n",
            "Epoch 39/200\n",
            "28709/28709 [==============================] - 15s 512us/step - loss: 0.3049 - accuracy: 0.8903 - val_loss: 1.6832 - val_accuracy: 0.6035\n",
            "Epoch 40/200\n",
            "28709/28709 [==============================] - 15s 510us/step - loss: 0.2944 - accuracy: 0.8944 - val_loss: 1.7944 - val_accuracy: 0.5935\n",
            "Epoch 41/200\n",
            "28709/28709 [==============================] - 15s 509us/step - loss: 0.2832 - accuracy: 0.8989 - val_loss: 1.7410 - val_accuracy: 0.5943\n",
            "Epoch 42/200\n",
            "28709/28709 [==============================] - 15s 508us/step - loss: 0.2795 - accuracy: 0.9006 - val_loss: 1.7924 - val_accuracy: 0.5893\n",
            "Epoch 43/200\n",
            "28709/28709 [==============================] - 15s 507us/step - loss: 0.2756 - accuracy: 0.9014 - val_loss: 1.7786 - val_accuracy: 0.6027\n",
            "Epoch 44/200\n",
            "28709/28709 [==============================] - 15s 511us/step - loss: 0.2676 - accuracy: 0.9045 - val_loss: 1.8061 - val_accuracy: 0.5982\n",
            "Epoch 45/200\n",
            "28709/28709 [==============================] - 15s 510us/step - loss: 0.2568 - accuracy: 0.9089 - val_loss: 1.8241 - val_accuracy: 0.5974\n",
            "Epoch 46/200\n",
            "28709/28709 [==============================] - 15s 511us/step - loss: 0.2459 - accuracy: 0.9145 - val_loss: 1.8325 - val_accuracy: 0.5979\n",
            "Epoch 47/200\n",
            "28709/28709 [==============================] - 15s 510us/step - loss: 0.2511 - accuracy: 0.9111 - val_loss: 1.8141 - val_accuracy: 0.5982\n",
            "Epoch 48/200\n",
            "28709/28709 [==============================] - 15s 513us/step - loss: 0.2479 - accuracy: 0.9110 - val_loss: 1.8731 - val_accuracy: 0.6018\n",
            "Epoch 49/200\n",
            "28709/28709 [==============================] - 15s 513us/step - loss: 0.2395 - accuracy: 0.9165 - val_loss: 1.9051 - val_accuracy: 0.6049\n",
            "Epoch 50/200\n",
            "28709/28709 [==============================] - 15s 507us/step - loss: 0.2431 - accuracy: 0.9135 - val_loss: 1.8996 - val_accuracy: 0.6010\n",
            "Epoch 51/200\n",
            "28709/28709 [==============================] - 15s 506us/step - loss: 0.2244 - accuracy: 0.9213 - val_loss: 1.9436 - val_accuracy: 0.6074\n",
            "Epoch 52/200\n",
            "28709/28709 [==============================] - 15s 507us/step - loss: 0.2143 - accuracy: 0.9257 - val_loss: 1.9683 - val_accuracy: 0.6163\n",
            "Epoch 53/200\n",
            "28709/28709 [==============================] - 15s 506us/step - loss: 0.2307 - accuracy: 0.9196 - val_loss: 1.8764 - val_accuracy: 0.6030\n",
            "Epoch 54/200\n",
            "28709/28709 [==============================] - 15s 506us/step - loss: 0.2145 - accuracy: 0.9254 - val_loss: 1.9593 - val_accuracy: 0.6066\n",
            "Epoch 55/200\n",
            "28709/28709 [==============================] - 15s 507us/step - loss: 0.2179 - accuracy: 0.9233 - val_loss: 1.9735 - val_accuracy: 0.6018\n",
            "Epoch 56/200\n",
            "28709/28709 [==============================] - 15s 506us/step - loss: 0.2163 - accuracy: 0.9236 - val_loss: 1.9081 - val_accuracy: 0.5993\n",
            "Epoch 57/200\n",
            "28709/28709 [==============================] - 14s 502us/step - loss: 0.2050 - accuracy: 0.9298 - val_loss: 1.9127 - val_accuracy: 0.6082\n",
            "Epoch 58/200\n",
            "28709/28709 [==============================] - 14s 500us/step - loss: 0.2074 - accuracy: 0.9270 - val_loss: 1.9613 - val_accuracy: 0.6002\n",
            "Epoch 59/200\n",
            "28709/28709 [==============================] - 14s 502us/step - loss: 0.1959 - accuracy: 0.9310 - val_loss: 2.0173 - val_accuracy: 0.6007\n",
            "Epoch 60/200\n",
            "28709/28709 [==============================] - 14s 500us/step - loss: 0.2113 - accuracy: 0.9267 - val_loss: 1.9022 - val_accuracy: 0.6030\n",
            "Epoch 61/200\n",
            "28709/28709 [==============================] - 14s 503us/step - loss: 0.2072 - accuracy: 0.9286 - val_loss: 1.9085 - val_accuracy: 0.5971\n",
            "Epoch 62/200\n",
            "28709/28709 [==============================] - 14s 502us/step - loss: 0.1920 - accuracy: 0.9337 - val_loss: 1.9727 - val_accuracy: 0.5963\n",
            "Epoch 63/200\n",
            "28709/28709 [==============================] - 14s 500us/step - loss: 0.1888 - accuracy: 0.9345 - val_loss: 2.0707 - val_accuracy: 0.6049\n",
            "Epoch 64/200\n",
            "28709/28709 [==============================] - 14s 499us/step - loss: 0.1906 - accuracy: 0.9335 - val_loss: 2.0178 - val_accuracy: 0.6082\n",
            "Epoch 65/200\n",
            "28709/28709 [==============================] - 14s 500us/step - loss: 0.1853 - accuracy: 0.9343 - val_loss: 2.0731 - val_accuracy: 0.6077\n",
            "Epoch 66/200\n",
            "28709/28709 [==============================] - 14s 501us/step - loss: 0.1878 - accuracy: 0.9365 - val_loss: 2.1318 - val_accuracy: 0.6004\n",
            "Epoch 67/200\n",
            "28709/28709 [==============================] - 14s 500us/step - loss: 0.1886 - accuracy: 0.9363 - val_loss: 2.0058 - val_accuracy: 0.6135\n",
            "Epoch 68/200\n",
            "28709/28709 [==============================] - 14s 500us/step - loss: 0.1788 - accuracy: 0.9390 - val_loss: 1.9718 - val_accuracy: 0.6032\n",
            "Epoch 69/200\n",
            "28709/28709 [==============================] - 14s 500us/step - loss: 0.1741 - accuracy: 0.9399 - val_loss: 2.0676 - val_accuracy: 0.5993\n",
            "Epoch 70/200\n",
            "28709/28709 [==============================] - 15s 506us/step - loss: 0.1852 - accuracy: 0.9380 - val_loss: 1.9927 - val_accuracy: 0.5940\n",
            "Epoch 71/200\n",
            "28709/28709 [==============================] - 14s 499us/step - loss: 0.1785 - accuracy: 0.9377 - val_loss: 2.0210 - val_accuracy: 0.6021\n",
            "Epoch 72/200\n",
            "28709/28709 [==============================] - 14s 501us/step - loss: 0.1724 - accuracy: 0.9400 - val_loss: 2.1958 - val_accuracy: 0.6007\n",
            "Epoch 73/200\n",
            "28709/28709 [==============================] - 14s 501us/step - loss: 0.1628 - accuracy: 0.9451 - val_loss: 2.1496 - val_accuracy: 0.6013\n",
            "Epoch 74/200\n",
            "28709/28709 [==============================] - 14s 500us/step - loss: 0.1744 - accuracy: 0.9416 - val_loss: 1.9899 - val_accuracy: 0.6074\n",
            "Epoch 75/200\n",
            "28709/28709 [==============================] - 14s 499us/step - loss: 0.1591 - accuracy: 0.9444 - val_loss: 2.0175 - val_accuracy: 0.6077\n",
            "Epoch 76/200\n",
            "28709/28709 [==============================] - 14s 499us/step - loss: 0.1450 - accuracy: 0.9492 - val_loss: 2.1553 - val_accuracy: 0.6043\n",
            "Epoch 77/200\n",
            "28709/28709 [==============================] - 14s 499us/step - loss: 0.1575 - accuracy: 0.9454 - val_loss: 2.0592 - val_accuracy: 0.6013\n",
            "Epoch 78/200\n",
            "28709/28709 [==============================] - 14s 503us/step - loss: 0.1657 - accuracy: 0.9444 - val_loss: 2.1446 - val_accuracy: 0.6085\n",
            "Epoch 79/200\n",
            "28709/28709 [==============================] - 14s 499us/step - loss: 0.1575 - accuracy: 0.9456 - val_loss: 2.1366 - val_accuracy: 0.6096\n",
            "Epoch 80/200\n",
            "28709/28709 [==============================] - 14s 501us/step - loss: 0.1644 - accuracy: 0.9450 - val_loss: 2.1123 - val_accuracy: 0.6102\n",
            "Epoch 81/200\n",
            "28709/28709 [==============================] - 14s 500us/step - loss: 0.1451 - accuracy: 0.9494 - val_loss: 2.2261 - val_accuracy: 0.6108\n",
            "Epoch 82/200\n",
            "28709/28709 [==============================] - 14s 501us/step - loss: 0.1545 - accuracy: 0.9489 - val_loss: 2.1411 - val_accuracy: 0.6094\n",
            "Epoch 83/200\n",
            "28709/28709 [==============================] - 14s 501us/step - loss: 0.1492 - accuracy: 0.9490 - val_loss: 2.1518 - val_accuracy: 0.5982\n",
            "Epoch 84/200\n",
            "28709/28709 [==============================] - 14s 501us/step - loss: 0.1488 - accuracy: 0.9494 - val_loss: 2.1171 - val_accuracy: 0.6035\n",
            "Epoch 85/200\n",
            "28709/28709 [==============================] - 14s 500us/step - loss: 0.1366 - accuracy: 0.9524 - val_loss: 2.1501 - val_accuracy: 0.5965\n",
            "Epoch 86/200\n",
            "28709/28709 [==============================] - 14s 501us/step - loss: 0.1567 - accuracy: 0.9477 - val_loss: 2.1358 - val_accuracy: 0.6013\n",
            "Epoch 87/200\n",
            "28709/28709 [==============================] - 14s 501us/step - loss: 0.1428 - accuracy: 0.9517 - val_loss: 2.1582 - val_accuracy: 0.6071\n",
            "Epoch 88/200\n",
            "28709/28709 [==============================] - 14s 502us/step - loss: 0.1370 - accuracy: 0.9528 - val_loss: 2.1215 - val_accuracy: 0.5985\n",
            "Epoch 89/200\n",
            "28709/28709 [==============================] - 14s 502us/step - loss: 0.1401 - accuracy: 0.9519 - val_loss: 2.0515 - val_accuracy: 0.6055\n",
            "Epoch 90/200\n",
            "28709/28709 [==============================] - 14s 501us/step - loss: 0.1327 - accuracy: 0.9547 - val_loss: 2.1244 - val_accuracy: 0.5946\n",
            "Epoch 91/200\n",
            "28709/28709 [==============================] - 14s 504us/step - loss: 0.1359 - accuracy: 0.9536 - val_loss: 2.2018 - val_accuracy: 0.6074\n",
            "Epoch 92/200\n",
            "28709/28709 [==============================] - 14s 504us/step - loss: 0.1354 - accuracy: 0.9523 - val_loss: 2.2299 - val_accuracy: 0.6027\n",
            "Epoch 93/200\n",
            "28709/28709 [==============================] - 14s 501us/step - loss: 0.1323 - accuracy: 0.9547 - val_loss: 2.2397 - val_accuracy: 0.5993\n",
            "Epoch 94/200\n",
            "28709/28709 [==============================] - 14s 502us/step - loss: 0.1399 - accuracy: 0.9536 - val_loss: 2.1608 - val_accuracy: 0.6018\n",
            "Epoch 95/200\n",
            "28709/28709 [==============================] - 14s 503us/step - loss: 0.1267 - accuracy: 0.9566 - val_loss: 2.2720 - val_accuracy: 0.6021\n",
            "Epoch 96/200\n",
            "28709/28709 [==============================] - 14s 502us/step - loss: 0.1308 - accuracy: 0.9560 - val_loss: 2.1040 - val_accuracy: 0.6066\n",
            "Epoch 97/200\n",
            "28709/28709 [==============================] - 14s 501us/step - loss: 0.1346 - accuracy: 0.9534 - val_loss: 2.2081 - val_accuracy: 0.5960\n",
            "Epoch 98/200\n",
            "28709/28709 [==============================] - 14s 502us/step - loss: 0.1277 - accuracy: 0.9570 - val_loss: 2.2614 - val_accuracy: 0.5960\n",
            "Epoch 99/200\n",
            "28709/28709 [==============================] - 14s 501us/step - loss: 0.1282 - accuracy: 0.9562 - val_loss: 2.2240 - val_accuracy: 0.5910\n",
            "Epoch 100/200\n",
            "28709/28709 [==============================] - 14s 503us/step - loss: 0.1252 - accuracy: 0.9572 - val_loss: 2.2804 - val_accuracy: 0.5932\n",
            "Epoch 101/200\n",
            "28709/28709 [==============================] - 14s 503us/step - loss: 0.1265 - accuracy: 0.9567 - val_loss: 2.2192 - val_accuracy: 0.5960\n",
            "Epoch 102/200\n",
            "28709/28709 [==============================] - 14s 501us/step - loss: 0.1256 - accuracy: 0.9571 - val_loss: 2.2821 - val_accuracy: 0.6057\n",
            "Epoch 103/200\n",
            "28709/28709 [==============================] - 14s 503us/step - loss: 0.1256 - accuracy: 0.9572 - val_loss: 2.3469 - val_accuracy: 0.5965\n",
            "Epoch 104/200\n",
            "28709/28709 [==============================] - 14s 500us/step - loss: 0.1297 - accuracy: 0.9559 - val_loss: 2.1577 - val_accuracy: 0.6038\n",
            "Epoch 105/200\n",
            "28709/28709 [==============================] - 14s 501us/step - loss: 0.1233 - accuracy: 0.9574 - val_loss: 2.2816 - val_accuracy: 0.6066\n",
            "Epoch 106/200\n",
            "28709/28709 [==============================] - 14s 502us/step - loss: 0.1259 - accuracy: 0.9581 - val_loss: 2.3409 - val_accuracy: 0.6066\n",
            "Epoch 107/200\n",
            "28709/28709 [==============================] - 14s 501us/step - loss: 0.1223 - accuracy: 0.9588 - val_loss: 2.2462 - val_accuracy: 0.5996\n",
            "Epoch 108/200\n",
            "28709/28709 [==============================] - 14s 499us/step - loss: 0.1181 - accuracy: 0.9603 - val_loss: 2.2742 - val_accuracy: 0.5952\n",
            "Epoch 109/200\n",
            "28709/28709 [==============================] - 14s 501us/step - loss: 0.1181 - accuracy: 0.9603 - val_loss: 2.2943 - val_accuracy: 0.6049\n",
            "Epoch 110/200\n",
            "28709/28709 [==============================] - 14s 500us/step - loss: 0.1162 - accuracy: 0.9607 - val_loss: 2.2877 - val_accuracy: 0.6102\n",
            "Epoch 111/200\n",
            "28709/28709 [==============================] - 14s 499us/step - loss: 0.1255 - accuracy: 0.9585 - val_loss: 2.2691 - val_accuracy: 0.6038\n",
            "Epoch 112/200\n",
            "28709/28709 [==============================] - 14s 502us/step - loss: 0.1179 - accuracy: 0.9604 - val_loss: 2.2274 - val_accuracy: 0.5979\n",
            "Epoch 113/200\n",
            "28709/28709 [==============================] - 14s 505us/step - loss: 0.1113 - accuracy: 0.9619 - val_loss: 2.2563 - val_accuracy: 0.6052\n",
            "Epoch 114/200\n",
            "28709/28709 [==============================] - 14s 500us/step - loss: 0.1174 - accuracy: 0.9610 - val_loss: 2.2426 - val_accuracy: 0.6066\n",
            "Epoch 115/200\n",
            "28709/28709 [==============================] - 14s 499us/step - loss: 0.1128 - accuracy: 0.9620 - val_loss: 2.2441 - val_accuracy: 0.6038\n",
            "Epoch 116/200\n",
            "28709/28709 [==============================] - 14s 500us/step - loss: 0.1175 - accuracy: 0.9600 - val_loss: 2.2233 - val_accuracy: 0.6030\n",
            "Epoch 117/200\n",
            "28709/28709 [==============================] - 14s 501us/step - loss: 0.1091 - accuracy: 0.9621 - val_loss: 2.2062 - val_accuracy: 0.5999\n",
            "Epoch 118/200\n",
            "28709/28709 [==============================] - 14s 499us/step - loss: 0.1088 - accuracy: 0.9621 - val_loss: 2.3221 - val_accuracy: 0.5999\n",
            "Epoch 119/200\n",
            "28709/28709 [==============================] - 14s 499us/step - loss: 0.1093 - accuracy: 0.9623 - val_loss: 2.2397 - val_accuracy: 0.6046\n",
            "Epoch 120/200\n",
            "28709/28709 [==============================] - 14s 500us/step - loss: 0.1101 - accuracy: 0.9622 - val_loss: 2.2771 - val_accuracy: 0.5963\n",
            "Epoch 121/200\n",
            "28709/28709 [==============================] - 14s 499us/step - loss: 0.1121 - accuracy: 0.9601 - val_loss: 2.2505 - val_accuracy: 0.6052\n",
            "Epoch 122/200\n",
            "28709/28709 [==============================] - 14s 501us/step - loss: 0.1053 - accuracy: 0.9636 - val_loss: 2.3528 - val_accuracy: 0.6052\n",
            "Epoch 123/200\n",
            "28709/28709 [==============================] - 14s 502us/step - loss: 0.1112 - accuracy: 0.9629 - val_loss: 2.2452 - val_accuracy: 0.6063\n",
            "Epoch 124/200\n",
            "28709/28709 [==============================] - 14s 500us/step - loss: 0.1021 - accuracy: 0.9640 - val_loss: 2.3396 - val_accuracy: 0.6024\n",
            "Epoch 125/200\n",
            "28709/28709 [==============================] - 14s 501us/step - loss: 0.0997 - accuracy: 0.9660 - val_loss: 2.3458 - val_accuracy: 0.6010\n",
            "Epoch 126/200\n",
            "28709/28709 [==============================] - 14s 499us/step - loss: 0.1101 - accuracy: 0.9628 - val_loss: 2.2553 - val_accuracy: 0.5991\n",
            "Epoch 127/200\n",
            "28709/28709 [==============================] - 14s 499us/step - loss: 0.1050 - accuracy: 0.9643 - val_loss: 2.3971 - val_accuracy: 0.6049\n",
            "Epoch 128/200\n",
            "28709/28709 [==============================] - 14s 501us/step - loss: 0.1052 - accuracy: 0.9658 - val_loss: 2.2296 - val_accuracy: 0.6077\n",
            "Epoch 129/200\n",
            "28709/28709 [==============================] - 14s 501us/step - loss: 0.1027 - accuracy: 0.9631 - val_loss: 2.3300 - val_accuracy: 0.6049\n",
            "Epoch 130/200\n",
            "28709/28709 [==============================] - 14s 500us/step - loss: 0.1012 - accuracy: 0.9652 - val_loss: 2.4112 - val_accuracy: 0.6018\n",
            "Epoch 131/200\n",
            "28709/28709 [==============================] - 14s 500us/step - loss: 0.0999 - accuracy: 0.9660 - val_loss: 2.2826 - val_accuracy: 0.6035\n",
            "Epoch 132/200\n",
            "28709/28709 [==============================] - 14s 499us/step - loss: 0.1029 - accuracy: 0.9647 - val_loss: 2.2810 - val_accuracy: 0.6035\n",
            "Epoch 133/200\n",
            "28709/28709 [==============================] - 14s 499us/step - loss: 0.1028 - accuracy: 0.9653 - val_loss: 2.2490 - val_accuracy: 0.6094\n",
            "Epoch 134/200\n",
            "28709/28709 [==============================] - 14s 501us/step - loss: 0.0946 - accuracy: 0.9687 - val_loss: 2.4485 - val_accuracy: 0.5982\n",
            "Epoch 135/200\n",
            "28709/28709 [==============================] - 14s 502us/step - loss: 0.1015 - accuracy: 0.9655 - val_loss: 2.3369 - val_accuracy: 0.6057\n",
            "Epoch 136/200\n",
            "28709/28709 [==============================] - 14s 499us/step - loss: 0.0969 - accuracy: 0.9674 - val_loss: 2.3918 - val_accuracy: 0.6024\n",
            "Epoch 137/200\n",
            "28709/28709 [==============================] - 14s 499us/step - loss: 0.0990 - accuracy: 0.9681 - val_loss: 2.3393 - val_accuracy: 0.6055\n",
            "Epoch 138/200\n",
            "28709/28709 [==============================] - 14s 499us/step - loss: 0.0989 - accuracy: 0.9653 - val_loss: 2.2849 - val_accuracy: 0.6057\n",
            "Epoch 139/200\n",
            "28709/28709 [==============================] - 14s 500us/step - loss: 0.0962 - accuracy: 0.9674 - val_loss: 2.3379 - val_accuracy: 0.6010\n",
            "Epoch 140/200\n",
            "28709/28709 [==============================] - 14s 501us/step - loss: 0.0985 - accuracy: 0.9666 - val_loss: 2.3070 - val_accuracy: 0.6094\n",
            "Epoch 141/200\n",
            "28709/28709 [==============================] - 14s 499us/step - loss: 0.0985 - accuracy: 0.9654 - val_loss: 2.2827 - val_accuracy: 0.6080\n",
            "Epoch 142/200\n",
            "28709/28709 [==============================] - 14s 499us/step - loss: 0.0976 - accuracy: 0.9673 - val_loss: 2.3897 - val_accuracy: 0.6032\n",
            "Epoch 143/200\n",
            "28709/28709 [==============================] - 14s 499us/step - loss: 0.0908 - accuracy: 0.9691 - val_loss: 2.3560 - val_accuracy: 0.6060\n",
            "Epoch 144/200\n",
            "28709/28709 [==============================] - 14s 501us/step - loss: 0.0918 - accuracy: 0.9679 - val_loss: 2.3924 - val_accuracy: 0.6119\n",
            "Epoch 145/200\n",
            "28709/28709 [==============================] - 14s 501us/step - loss: 0.1000 - accuracy: 0.9662 - val_loss: 2.2423 - val_accuracy: 0.6002\n",
            "Epoch 146/200\n",
            "28709/28709 [==============================] - 14s 500us/step - loss: 0.0951 - accuracy: 0.9677 - val_loss: 2.2314 - val_accuracy: 0.6052\n",
            "Epoch 147/200\n",
            "28709/28709 [==============================] - 14s 499us/step - loss: 0.0960 - accuracy: 0.9667 - val_loss: 2.2689 - val_accuracy: 0.6138\n",
            "Epoch 148/200\n",
            "28709/28709 [==============================] - 14s 499us/step - loss: 0.0845 - accuracy: 0.9706 - val_loss: 2.4162 - val_accuracy: 0.6096\n",
            "Epoch 149/200\n",
            "28709/28709 [==============================] - 14s 500us/step - loss: 0.0946 - accuracy: 0.9693 - val_loss: 2.3385 - val_accuracy: 0.6057\n",
            "Epoch 150/200\n",
            "28709/28709 [==============================] - 14s 499us/step - loss: 0.0900 - accuracy: 0.9692 - val_loss: 2.2698 - val_accuracy: 0.6046\n",
            "Epoch 151/200\n",
            "28709/28709 [==============================] - 14s 501us/step - loss: 0.0917 - accuracy: 0.9684 - val_loss: 2.3866 - val_accuracy: 0.6130\n",
            "Epoch 152/200\n",
            "28709/28709 [==============================] - 14s 498us/step - loss: 0.0885 - accuracy: 0.9708 - val_loss: 2.2949 - val_accuracy: 0.5993\n",
            "Epoch 153/200\n",
            "28709/28709 [==============================] - 14s 501us/step - loss: 0.0863 - accuracy: 0.9699 - val_loss: 2.4584 - val_accuracy: 0.6035\n",
            "Epoch 154/200\n",
            "28709/28709 [==============================] - 14s 499us/step - loss: 0.0900 - accuracy: 0.9695 - val_loss: 2.3708 - val_accuracy: 0.6099\n",
            "Epoch 155/200\n",
            "28709/28709 [==============================] - 14s 499us/step - loss: 0.0919 - accuracy: 0.9692 - val_loss: 2.3555 - val_accuracy: 0.6057\n",
            "Epoch 156/200\n",
            "28709/28709 [==============================] - 14s 503us/step - loss: 0.0893 - accuracy: 0.9701 - val_loss: 2.4516 - val_accuracy: 0.6057\n",
            "Epoch 157/200\n",
            "28709/28709 [==============================] - 14s 501us/step - loss: 0.0844 - accuracy: 0.9709 - val_loss: 2.4611 - val_accuracy: 0.6010\n",
            "Epoch 158/200\n",
            "28709/28709 [==============================] - 14s 499us/step - loss: 0.0889 - accuracy: 0.9698 - val_loss: 2.3477 - val_accuracy: 0.6085\n",
            "Epoch 159/200\n",
            "28709/28709 [==============================] - 14s 499us/step - loss: 0.0829 - accuracy: 0.9728 - val_loss: 2.3673 - val_accuracy: 0.6108\n",
            "Epoch 160/200\n",
            "28709/28709 [==============================] - 14s 499us/step - loss: 0.0896 - accuracy: 0.9705 - val_loss: 2.2816 - val_accuracy: 0.6152\n",
            "Epoch 161/200\n",
            "28709/28709 [==============================] - 14s 499us/step - loss: 0.0880 - accuracy: 0.9701 - val_loss: 2.3105 - val_accuracy: 0.6030\n",
            "Epoch 162/200\n",
            "28709/28709 [==============================] - 14s 501us/step - loss: 0.0853 - accuracy: 0.9713 - val_loss: 2.3349 - val_accuracy: 0.6032\n",
            "Epoch 163/200\n",
            "28709/28709 [==============================] - 14s 500us/step - loss: 0.0839 - accuracy: 0.9716 - val_loss: 2.3585 - val_accuracy: 0.6085\n",
            "Epoch 164/200\n",
            "28709/28709 [==============================] - 14s 501us/step - loss: 0.0822 - accuracy: 0.9724 - val_loss: 2.4133 - val_accuracy: 0.6066\n",
            "Epoch 165/200\n",
            "28709/28709 [==============================] - 14s 500us/step - loss: 0.0825 - accuracy: 0.9719 - val_loss: 2.4557 - val_accuracy: 0.6066\n",
            "Epoch 166/200\n",
            "28709/28709 [==============================] - 14s 499us/step - loss: 0.0849 - accuracy: 0.9712 - val_loss: 2.4131 - val_accuracy: 0.6124\n",
            "Epoch 167/200\n",
            "28709/28709 [==============================] - 14s 500us/step - loss: 0.0843 - accuracy: 0.9711 - val_loss: 2.3779 - val_accuracy: 0.6091\n",
            "Epoch 168/200\n",
            "28709/28709 [==============================] - 14s 498us/step - loss: 0.0865 - accuracy: 0.9720 - val_loss: 2.4043 - val_accuracy: 0.6082\n",
            "Epoch 169/200\n",
            "28709/28709 [==============================] - 14s 499us/step - loss: 0.0818 - accuracy: 0.9725 - val_loss: 2.3883 - val_accuracy: 0.6063\n",
            "Epoch 170/200\n",
            "28709/28709 [==============================] - 14s 500us/step - loss: 0.0857 - accuracy: 0.9710 - val_loss: 2.4962 - val_accuracy: 0.6071\n",
            "Epoch 171/200\n",
            "28709/28709 [==============================] - 14s 499us/step - loss: 0.0819 - accuracy: 0.9723 - val_loss: 2.3673 - val_accuracy: 0.6060\n",
            "Epoch 172/200\n",
            "28709/28709 [==============================] - 14s 499us/step - loss: 0.0793 - accuracy: 0.9737 - val_loss: 2.4754 - val_accuracy: 0.6069\n",
            "Epoch 173/200\n",
            "28709/28709 [==============================] - 14s 500us/step - loss: 0.0806 - accuracy: 0.9728 - val_loss: 2.5071 - val_accuracy: 0.6105\n",
            "Epoch 174/200\n",
            "28709/28709 [==============================] - 14s 499us/step - loss: 0.0850 - accuracy: 0.9714 - val_loss: 2.4150 - val_accuracy: 0.6158\n",
            "Epoch 175/200\n",
            "28709/28709 [==============================] - 14s 499us/step - loss: 0.0793 - accuracy: 0.9724 - val_loss: 2.5324 - val_accuracy: 0.6169\n",
            "Epoch 176/200\n",
            "28709/28709 [==============================] - 14s 499us/step - loss: 0.0809 - accuracy: 0.9721 - val_loss: 2.5024 - val_accuracy: 0.6099\n",
            "Epoch 177/200\n",
            "28709/28709 [==============================] - 14s 502us/step - loss: 0.0803 - accuracy: 0.9721 - val_loss: 2.5392 - val_accuracy: 0.6082\n",
            "Epoch 178/200\n",
            "28709/28709 [==============================] - 15s 513us/step - loss: 0.0744 - accuracy: 0.9747 - val_loss: 2.5169 - val_accuracy: 0.6049\n",
            "Epoch 179/200\n",
            "28709/28709 [==============================] - 15s 509us/step - loss: 0.0784 - accuracy: 0.9736 - val_loss: 2.3964 - val_accuracy: 0.6149\n",
            "Epoch 180/200\n",
            "28709/28709 [==============================] - 15s 506us/step - loss: 0.0759 - accuracy: 0.9740 - val_loss: 2.4389 - val_accuracy: 0.6082\n",
            "Epoch 181/200\n",
            "28709/28709 [==============================] - 14s 505us/step - loss: 0.0797 - accuracy: 0.9733 - val_loss: 2.4112 - val_accuracy: 0.6166\n",
            "Epoch 182/200\n",
            "28709/28709 [==============================] - 14s 503us/step - loss: 0.0756 - accuracy: 0.9746 - val_loss: 2.4564 - val_accuracy: 0.6119\n",
            "Epoch 183/200\n",
            "28709/28709 [==============================] - 15s 505us/step - loss: 0.0810 - accuracy: 0.9728 - val_loss: 2.4037 - val_accuracy: 0.6074\n",
            "Epoch 184/200\n",
            "28709/28709 [==============================] - 15s 505us/step - loss: 0.0769 - accuracy: 0.9735 - val_loss: 2.4116 - val_accuracy: 0.6063\n",
            "Epoch 185/200\n",
            "28709/28709 [==============================] - 15s 505us/step - loss: 0.0810 - accuracy: 0.9733 - val_loss: 2.5671 - val_accuracy: 0.6080\n",
            "Epoch 186/200\n",
            "28709/28709 [==============================] - 15s 508us/step - loss: 0.0841 - accuracy: 0.9729 - val_loss: 2.2742 - val_accuracy: 0.6074\n",
            "Epoch 187/200\n",
            "28709/28709 [==============================] - 15s 506us/step - loss: 0.0771 - accuracy: 0.9740 - val_loss: 2.3899 - val_accuracy: 0.6060\n",
            "Epoch 188/200\n",
            "28709/28709 [==============================] - 15s 508us/step - loss: 0.0771 - accuracy: 0.9740 - val_loss: 2.5351 - val_accuracy: 0.6032\n",
            "Epoch 189/200\n",
            "28709/28709 [==============================] - 15s 506us/step - loss: 0.0759 - accuracy: 0.9745 - val_loss: 2.5168 - val_accuracy: 0.6124\n",
            "Epoch 190/200\n",
            "28709/28709 [==============================] - 15s 508us/step - loss: 0.0735 - accuracy: 0.9747 - val_loss: 2.4143 - val_accuracy: 0.6057\n",
            "Epoch 191/200\n",
            "28709/28709 [==============================] - 14s 504us/step - loss: 0.0757 - accuracy: 0.9752 - val_loss: 2.5086 - val_accuracy: 0.6038\n",
            "Epoch 192/200\n",
            "28709/28709 [==============================] - 14s 505us/step - loss: 0.0717 - accuracy: 0.9755 - val_loss: 2.3305 - val_accuracy: 0.5979\n",
            "Epoch 193/200\n",
            "28709/28709 [==============================] - 14s 504us/step - loss: 0.0715 - accuracy: 0.9756 - val_loss: 2.5764 - val_accuracy: 0.6024\n",
            "Epoch 194/200\n",
            "28709/28709 [==============================] - 14s 504us/step - loss: 0.0716 - accuracy: 0.9759 - val_loss: 2.5936 - val_accuracy: 0.6055\n",
            "Epoch 195/200\n",
            "28709/28709 [==============================] - 15s 507us/step - loss: 0.0786 - accuracy: 0.9726 - val_loss: 2.3868 - val_accuracy: 0.6060\n",
            "Epoch 196/200\n",
            "28709/28709 [==============================] - 14s 502us/step - loss: 0.0708 - accuracy: 0.9759 - val_loss: 2.6041 - val_accuracy: 0.6066\n",
            "Epoch 197/200\n",
            "28709/28709 [==============================] - 14s 502us/step - loss: 0.0789 - accuracy: 0.9737 - val_loss: 2.3774 - val_accuracy: 0.6004\n",
            "Epoch 198/200\n",
            "28709/28709 [==============================] - 14s 503us/step - loss: 0.0785 - accuracy: 0.9742 - val_loss: 2.3547 - val_accuracy: 0.6177\n",
            "Epoch 199/200\n",
            "28709/28709 [==============================] - 15s 506us/step - loss: 0.0716 - accuracy: 0.9759 - val_loss: 2.4473 - val_accuracy: 0.6080\n",
            "Epoch 200/200\n",
            "28709/28709 [==============================] - 14s 504us/step - loss: 0.0738 - accuracy: 0.9740 - val_loss: 2.5180 - val_accuracy: 0.6133\n"
          ],
          "name": "stdout"
        },
        {
          "output_type": "execute_result",
          "data": {
            "text/plain": [
              "<keras.callbacks.callbacks.History at 0x7f5cedac7d30>"
            ]
          },
          "metadata": {
            "tags": []
          },
          "execution_count": 139
        }
      ]
    },
    {
      "cell_type": "code",
      "metadata": {
        "id": "dfXCmo4AyqNh",
        "colab_type": "code",
        "outputId": "a8ac5bc8-3de5-4a81-e78d-083676c11293",
        "colab": {
          "base_uri": "https://localhost:8080/",
          "height": 50
        }
      },
      "source": [
        "loss, accuracy = model.evaluate(X_test, test_y)\n",
        "print(accuracy)#accuarcy with relu function=0.600724458694458 in 50 epoch\n",
        "#accuracy with elu function = 0.569796621799469 in 50 epoch"
      ],
      "execution_count": 140,
      "outputs": [
        {
          "output_type": "stream",
          "text": [
            "3589/3589 [==============================] - 1s 178us/step\n",
            "0.6132627725601196\n"
          ],
          "name": "stdout"
        }
      ]
    },
    {
      "cell_type": "code",
      "metadata": {
        "id": "eYERRtCU5PaC",
        "colab_type": "code",
        "outputId": "24dc24e9-064b-4c91-bf60-b801287e5004",
        "colab": {
          "base_uri": "https://localhost:8080/",
          "height": 84
        }
      },
      "source": [
        "print(np.shape(X_train))\n",
        "print(np.shape(train_y))\n",
        "print(np.shape(X_test))\n",
        "print(np.shape(test_y))"
      ],
      "execution_count": 141,
      "outputs": [
        {
          "output_type": "stream",
          "text": [
            "(28709, 48, 48, 1)\n",
            "(28709, 7)\n",
            "(3589, 48, 48, 1)\n",
            "(3589, 7)\n"
          ],
          "name": "stdout"
        }
      ]
    },
    {
      "cell_type": "markdown",
      "metadata": {
        "id": "U761QHKoglpH",
        "colab_type": "text"
      },
      "source": [
        "# Saving The Model"
      ]
    },
    {
      "cell_type": "code",
      "metadata": {
        "id": "mJkaN6NOVwAM",
        "colab_type": "code",
        "colab": {}
      },
      "source": [
        "#Saving the  model to  use it later on\n",
        "fer_json = model.to_json()\n",
        "with open(\"fer.json\", \"w\") as json_file:\n",
        "    json_file.write(fer_json)\n",
        "model.save_weights(\"fer.h5\")"
      ],
      "execution_count": 0,
      "outputs": []
    },
    {
      "cell_type": "code",
      "metadata": {
        "id": "eF5-S-59x18k",
        "colab_type": "code",
        "colab": {}
      },
      "source": [
        "def create_model(learning_rate=0.01, activation='relu'):\n",
        "\n",
        "  model = Sequential()\n",
        "\n",
        "  model.add(Conv2D(64, kernel_size=(3, 3), activation = activation, input_shape=(X_train.shape[1:])))\n",
        "  model.add(Conv2D(64,kernel_size= (3, 3),activation = activation))\n",
        "  model.add(BatchNormalization())\n",
        "  model.add(MaxPooling2D(pool_size=(2,2), strides=(2, 2)))\n",
        "  model.add(Dropout(0.5))\n",
        "\n",
        "#2nd convolution layer\n",
        "  model.add(Conv2D(64, (3, 3), activation = activation))\n",
        "  model.add(Conv2D(64, (3, 3), activation = activation))\n",
        "  model.add(BatchNormalization())\n",
        "  model.add(MaxPooling2D(pool_size=(2,2), strides=(2, 2)))\n",
        "  model.add(Dropout(0.5))\n",
        "\n",
        "#3rd convolution layer\n",
        "  model.add(Conv2D(128, (3, 3), activation = activation))\n",
        "  model.add(Conv2D(128, (3, 3), activation = activation))\n",
        "  model.add(BatchNormalization())\n",
        "  model.add(MaxPooling2D(pool_size=(2,2), strides=(2, 2)))\n",
        "\n",
        "  model.add(Flatten())\n",
        "\n",
        "#fully connected neural networks\n",
        "  model.add(Dense(1024, activation = activation))\n",
        "  model.add(Dropout(0.2))\n",
        "  model.add(Dense(1024,activation = activation))\n",
        "  model.add(Dropout(0.2))\n",
        "\n",
        "  model.add(Dense(num_labels, activation='softmax'))\n",
        "\n",
        "  #model.summary()\n",
        "\n",
        "#Compliling the model\n",
        "  model.compile(loss=categorical_crossentropy,optimizer=Adam(),metrics=['accuracy'])\n",
        "  return model"
      ],
      "execution_count": 0,
      "outputs": []
    },
    {
      "cell_type": "markdown",
      "metadata": {
        "id": "WjY_-_AOgsiF",
        "colab_type": "text"
      },
      "source": [
        "# Hyperparameter tuning\n"
      ]
    },
    {
      "cell_type": "code",
      "metadata": {
        "id": "CYAiVy7r0734",
        "colab_type": "code",
        "colab": {}
      },
      "source": [
        "\n",
        "# Create a KerasClassifier\n",
        "model = KerasRegressor(build_fn = create_model,\n",
        "                       verbose = 0)\n",
        "\n",
        "# Define the parameters to try out\n",
        "params = {'activation': [\"relu\",\"elu\"],\n",
        "          'batch_size': [32,64,128], \n",
        "          'epochs': [50,100]}\n",
        "          # 'learning_rate': [0.01, 0.001, 0.0001,0.00001]}\n",
        "\n",
        "# Create a randomize search cv object passing in the parameters to try\n",
        "random_search = RandomizedSearchCV(model,\n",
        "                                   param_distributions = params,\n",
        "                                   cv = KFold(10))\n"
      ],
      "execution_count": 0,
      "outputs": []
    },
    {
      "cell_type": "code",
      "metadata": {
        "id": "ZGTESj0ey7I6",
        "colab_type": "code",
        "colab": {}
      },
      "source": [
        "random_search_results = random_search.fit(X_train, train_y)"
      ],
      "execution_count": 0,
      "outputs": []
    },
    {
      "cell_type": "code",
      "metadata": {
        "id": "b3YL0ufg0Fle",
        "colab_type": "code",
        "colab": {}
      },
      "source": [
        "print(\"Best Score: \", random_search_results.best_score_, \"and Best Params: \", random_search_results.best_params_)"
      ],
      "execution_count": 0,
      "outputs": []
    },
    {
      "cell_type": "code",
      "metadata": {
        "id": "GmoO5IxYk1CM",
        "colab_type": "code",
        "colab": {}
      },
      "source": [
        ""
      ],
      "execution_count": 0,
      "outputs": []
    }
  ]
}