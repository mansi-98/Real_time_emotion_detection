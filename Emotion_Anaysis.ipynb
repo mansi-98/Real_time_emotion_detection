{
  "nbformat": 4,
  "nbformat_minor": 0,
  "metadata": {
    "colab": {
      "name": "Emotion_Anaysis.ipynb",
      "provenance": [],
      "collapsed_sections": [],
      "include_colab_link": true
    },
    "kernelspec": {
      "name": "python3",
      "display_name": "Python 3"
    },
    "accelerator": "GPU"
  },
  "cells": [
    {
      "cell_type": "markdown",
      "metadata": {
        "id": "view-in-github",
        "colab_type": "text"
      },
      "source": [
        "<a href=\"https://colab.research.google.com/github/mansi-98/Real_time_emotion_detection/blob/master/Emotion_Anaysis.ipynb\" target=\"_parent\"><img src=\"https://colab.research.google.com/assets/colab-badge.svg\" alt=\"Open In Colab\"/></a>"
      ]
    },
    {
      "cell_type": "code",
      "metadata": {
        "id": "kN1sqLpV1bqR",
        "colab_type": "code",
        "outputId": "df61e2c5-3dd0-470e-9c7c-c29cd656b5cd",
        "colab": {
          "base_uri": "https://localhost:8080/",
          "height": 121
        }
      },
      "source": [
        "from google.colab import drive\n",
        "drive.mount('/content/gdrive')"
      ],
      "execution_count": 1,
      "outputs": [
        {
          "output_type": "stream",
          "text": [
            "Go to this URL in a browser: https://accounts.google.com/o/oauth2/auth?client_id=947318989803-6bn6qk8qdgf4n4g3pfee6491hc0brc4i.apps.googleusercontent.com&redirect_uri=urn%3aietf%3awg%3aoauth%3a2.0%3aoob&response_type=code&scope=email%20https%3a%2f%2fwww.googleapis.com%2fauth%2fdocs.test%20https%3a%2f%2fwww.googleapis.com%2fauth%2fdrive%20https%3a%2f%2fwww.googleapis.com%2fauth%2fdrive.photos.readonly%20https%3a%2f%2fwww.googleapis.com%2fauth%2fpeopleapi.readonly\n",
            "\n",
            "Enter your authorization code:\n",
            "··········\n",
            "Mounted at /content/gdrive\n"
          ],
          "name": "stdout"
        }
      ]
    },
    {
      "cell_type": "markdown",
      "metadata": {
        "id": "iWzsI_mRluUx",
        "colab_type": "text"
      },
      "source": [
        "## **Importing** **Libraries** "
      ]
    },
    {
      "cell_type": "code",
      "metadata": {
        "id": "E5VVSY5DVHvO",
        "colab_type": "code",
        "colab": {}
      },
      "source": [
        "import sys, os\n",
        "import pandas as pd\n",
        "import numpy as np\n",
        "\n",
        "from keras.models import Sequential\n",
        "from keras.layers import Dense, Dropout, Activation, Flatten\n",
        "from keras.layers import Conv2D, MaxPooling2D, BatchNormalization,AveragePooling2D\n",
        "from keras.losses import categorical_crossentropy\n",
        "from keras.optimizers import Adam\n",
        "from keras.regularizers import l2\n",
        "from keras.utils import np_utils"
      ],
      "execution_count": 0,
      "outputs": []
    },
    {
      "cell_type": "code",
      "metadata": {
        "id": "JdTyWjL03r8i",
        "colab_type": "code",
        "colab": {}
      },
      "source": [
        "from keras.wrappers.scikit_learn import KerasRegressor\n",
        "from sklearn.model_selection import RandomizedSearchCV, KFold, cross_val_score\n",
        "from keras.optimizers import Adam\n",
        "from keras import regularizers\n",
        "from sklearn.model_selection import GridSearchCV"
      ],
      "execution_count": 0,
      "outputs": []
    },
    {
      "cell_type": "markdown",
      "metadata": {
        "id": "pAupExyCfDGO",
        "colab_type": "text"
      },
      "source": [
        "#Loading the FER2013 dataset"
      ]
    },
    {
      "cell_type": "code",
      "metadata": {
        "id": "0NaB9Z3M4Kz9",
        "colab_type": "code",
        "outputId": "7e668676-67c9-45de-b0dc-3b29c8e22f80",
        "colab": {
          "base_uri": "https://localhost:8080/",
          "height": 118
        }
      },
      "source": [
        "\n",
        "df=pd.read_csv('/content/gdrive/My Drive/Realtime-Emotion-Detection/fer2013.csv')\n",
        "# print(df.info())\n",
        "# print(df[\"Usage\"].value_counts())\n",
        "\n",
        "print(df.head())"
      ],
      "execution_count": 87,
      "outputs": [
        {
          "output_type": "stream",
          "text": [
            "   emotion                                             pixels     Usage\n",
            "0        0  70 80 82 72 58 58 60 63 54 58 60 48 89 115 121...  Training\n",
            "1        0  151 150 147 155 148 133 111 140 170 174 182 15...  Training\n",
            "2        2  231 212 156 164 174 138 161 173 182 200 106 38...  Training\n",
            "3        4  24 32 36 30 32 23 19 20 30 41 21 22 32 34 21 1...  Training\n",
            "4        6  4 0 0 0 0 0 0 0 0 0 0 0 3 15 23 28 48 50 58 84...  Training\n"
          ],
          "name": "stdout"
        }
      ]
    },
    {
      "cell_type": "markdown",
      "metadata": {
        "id": "2lhp5f6kfGMZ",
        "colab_type": "text"
      },
      "source": [
        "# Data preparation\n"
      ]
    },
    {
      "cell_type": "code",
      "metadata": {
        "id": "wVnqaIJHVPuG",
        "colab_type": "code",
        "colab": {}
      },
      "source": [
        "X_train,train_y,X_test,test_y=[],[],[],[]\n",
        "\n",
        "for index, row in df.iterrows():\n",
        "    val=row['pixels'].split(\" \")\n",
        "    try:\n",
        "        if 'Training' in row['Usage']:\n",
        "           X_train.append(np.array(val,'float32'))\n",
        "           train_y.append(row['emotion'])\n",
        "        elif 'PublicTest' in row['Usage']:\n",
        "           X_test.append(np.array(val,'float32'))\n",
        "           test_y.append(row['emotion'])\n",
        "    except:\n",
        "        print(f\"error occured at index :{index} and row:{row}\")\n",
        "\n"
      ],
      "execution_count": 0,
      "outputs": []
    },
    {
      "cell_type": "code",
      "metadata": {
        "id": "pHvl822XVVQD",
        "colab_type": "code",
        "colab": {}
      },
      "source": [
        "num_features = 64\n",
        "num_labels = 7\n",
        "batch_size = 64\n",
        "epochs = 100\n",
        "width, height = 48, 48\n",
        "\n",
        "\n",
        "X_train = np.array(X_train,'float32')\n",
        "train_y = np.array(train_y,'float32')\n",
        "X_test = np.array(X_test,'float32')\n",
        "test_y = np.array(test_y,'float32')\n",
        "\n",
        "train_y=np_utils.to_categorical(train_y, num_classes=num_labels)\n",
        "test_y=np_utils.to_categorical(test_y, num_classes=num_labels)\n"
      ],
      "execution_count": 0,
      "outputs": []
    },
    {
      "cell_type": "code",
      "metadata": {
        "id": "6KdCWgkOVYbo",
        "colab_type": "code",
        "colab": {}
      },
      "source": [
        "#cannot produce\n",
        "#normalizing data between oand 1\n",
        "X_train -= np.mean(X_train, axis=0)\n",
        "X_train /= np.std(X_train, axis=0)\n",
        "\n",
        "X_test -= np.mean(X_test, axis=0)\n",
        "X_test /= np.std(X_test, axis=0)\n",
        "\n",
        "X_train = X_train.reshape(X_train.shape[0], 48, 48, 1)\n",
        "\n",
        "X_test = X_test.reshape(X_test.shape[0], 48, 48, 1)\n"
      ],
      "execution_count": 0,
      "outputs": []
    },
    {
      "cell_type": "markdown",
      "metadata": {
        "id": "8iAayPekgZ_d",
        "colab_type": "text"
      },
      "source": [
        "# Cnn Model"
      ]
    },
    {
      "cell_type": "code",
      "metadata": {
        "id": "yDMbu6QAVhD2",
        "colab_type": "code",
        "colab": {}
      },
      "source": [
        "##designing the cnn\n",
        "#1st convolution layer\n",
        "model = Sequential()\n",
        "\n",
        "model.add(Conv2D(64, kernel_size=(3, 3), activation='relu', input_shape=(X_train.shape[1:])))\n",
        "model.add(Conv2D(64,kernel_size= (3, 3), activation='relu'))\n",
        "# model.add(BatchNormalization())\n",
        "model.add(MaxPooling2D(pool_size=(2,2), strides=(2, 2)))\n",
        "model.add(Dropout(0.5))\n",
        "\n",
        "#2nd convolution layer\n",
        "model.add(Conv2D(64, (3, 3), activation='relu'))\n",
        "model.add(Conv2D(64, (3, 3), activation='relu'))\n",
        "# model.add(BatchNormalization())\n",
        "model.add(MaxPooling2D(pool_size=(2,2), strides=(2, 2)))\n",
        "model.add(Dropout(0.5))\n",
        "\n",
        "#3rd convolution layer\n",
        "model.add(Conv2D(128, (3, 3), activation='relu'))\n",
        "model.add(Conv2D(128, (3, 3), activation='relu'))\n",
        "# model.add(BatchNormalization())\n",
        "model.add(MaxPooling2D(pool_size=(2,2), strides=(2, 2)))\n",
        "\n",
        "model.add(Flatten())\n",
        "\n",
        "#fully connected neural networks\n",
        "model.add(Dense(1024, activation='relu'))\n",
        "model.add(Dropout(0.2))\n",
        "model.add(Dense(1024, activation='relu'))\n",
        "model.add(Dropout(0.2))\n",
        "\n",
        "model.add(Dense(num_labels, activation='softmax'))"
      ],
      "execution_count": 0,
      "outputs": []
    },
    {
      "cell_type": "code",
      "metadata": {
        "id": "MGw7-5VxVkow",
        "colab_type": "code",
        "outputId": "fcb50359-8448-4a2b-c35b-131d8cf94d80",
        "colab": {
          "base_uri": "https://localhost:8080/",
          "height": 722
        }
      },
      "source": [
        "model.summary()"
      ],
      "execution_count": 92,
      "outputs": [
        {
          "output_type": "stream",
          "text": [
            "Model: \"sequential_26\"\n",
            "_________________________________________________________________\n",
            "Layer (type)                 Output Shape              Param #   \n",
            "=================================================================\n",
            "conv2d_151 (Conv2D)          (None, 46, 46, 64)        640       \n",
            "_________________________________________________________________\n",
            "conv2d_152 (Conv2D)          (None, 44, 44, 64)        36928     \n",
            "_________________________________________________________________\n",
            "max_pooling2d_76 (MaxPooling (None, 22, 22, 64)        0         \n",
            "_________________________________________________________________\n",
            "dropout_101 (Dropout)        (None, 22, 22, 64)        0         \n",
            "_________________________________________________________________\n",
            "conv2d_153 (Conv2D)          (None, 20, 20, 64)        36928     \n",
            "_________________________________________________________________\n",
            "conv2d_154 (Conv2D)          (None, 18, 18, 64)        36928     \n",
            "_________________________________________________________________\n",
            "max_pooling2d_77 (MaxPooling (None, 9, 9, 64)          0         \n",
            "_________________________________________________________________\n",
            "dropout_102 (Dropout)        (None, 9, 9, 64)          0         \n",
            "_________________________________________________________________\n",
            "conv2d_155 (Conv2D)          (None, 7, 7, 128)         73856     \n",
            "_________________________________________________________________\n",
            "conv2d_156 (Conv2D)          (None, 5, 5, 128)         147584    \n",
            "_________________________________________________________________\n",
            "max_pooling2d_78 (MaxPooling (None, 2, 2, 128)         0         \n",
            "_________________________________________________________________\n",
            "flatten_26 (Flatten)         (None, 512)               0         \n",
            "_________________________________________________________________\n",
            "dense_76 (Dense)             (None, 1024)              525312    \n",
            "_________________________________________________________________\n",
            "dropout_103 (Dropout)        (None, 1024)              0         \n",
            "_________________________________________________________________\n",
            "dense_77 (Dense)             (None, 1024)              1049600   \n",
            "_________________________________________________________________\n",
            "dropout_104 (Dropout)        (None, 1024)              0         \n",
            "_________________________________________________________________\n",
            "dense_78 (Dense)             (None, 7)                 7175      \n",
            "=================================================================\n",
            "Total params: 1,914,951\n",
            "Trainable params: 1,914,951\n",
            "Non-trainable params: 0\n",
            "_________________________________________________________________\n"
          ],
          "name": "stdout"
        }
      ]
    },
    {
      "cell_type": "code",
      "metadata": {
        "id": "PspLafYOVob2",
        "colab_type": "code",
        "outputId": "74b32639-aeb2-43b8-a2d8-bb405d1c2971",
        "colab": {
          "base_uri": "https://localhost:8080/",
          "height": 1000
        }
      },
      "source": [
        "#Compliling the model\n",
        "model.compile(loss=categorical_crossentropy,\n",
        "              optimizer=Adam(),\n",
        "              metrics=['accuracy'])\n",
        "\n",
        "#Training the model\n",
        "model.fit(X_train, train_y,\n",
        "          batch_size=batch_size,\n",
        "          epochs=epochs,\n",
        "          verbose=1,\n",
        "          validation_data=(X_test, test_y),\n",
        "          shuffle=True)"
      ],
      "execution_count": 93,
      "outputs": [
        {
          "output_type": "stream",
          "text": [
            "Train on 28709 samples, validate on 3589 samples\n",
            "Epoch 1/100\n",
            "28709/28709 [==============================] - 10s 346us/step - loss: 1.7237 - accuracy: 0.2888 - val_loss: 1.5304 - val_accuracy: 0.3990\n",
            "Epoch 2/100\n",
            "28709/28709 [==============================] - 10s 331us/step - loss: 1.5142 - accuracy: 0.4017 - val_loss: 1.4371 - val_accuracy: 0.4308\n",
            "Epoch 3/100\n",
            "28709/28709 [==============================] - 10s 332us/step - loss: 1.4015 - accuracy: 0.4562 - val_loss: 1.3159 - val_accuracy: 0.4915\n",
            "Epoch 4/100\n",
            "28709/28709 [==============================] - 10s 331us/step - loss: 1.3413 - accuracy: 0.4823 - val_loss: 1.2778 - val_accuracy: 0.5004\n",
            "Epoch 5/100\n",
            "28709/28709 [==============================] - 10s 331us/step - loss: 1.3017 - accuracy: 0.4983 - val_loss: 1.2473 - val_accuracy: 0.5244\n",
            "Epoch 6/100\n",
            "28709/28709 [==============================] - 9s 331us/step - loss: 1.2617 - accuracy: 0.5146 - val_loss: 1.2359 - val_accuracy: 0.5277\n",
            "Epoch 7/100\n",
            "28709/28709 [==============================] - 9s 330us/step - loss: 1.2347 - accuracy: 0.5286 - val_loss: 1.1984 - val_accuracy: 0.5422\n",
            "Epoch 8/100\n",
            "28709/28709 [==============================] - 9s 331us/step - loss: 1.2153 - accuracy: 0.5365 - val_loss: 1.2012 - val_accuracy: 0.5380\n",
            "Epoch 9/100\n",
            "28709/28709 [==============================] - 9s 331us/step - loss: 1.1884 - accuracy: 0.5460 - val_loss: 1.1777 - val_accuracy: 0.5620\n",
            "Epoch 10/100\n",
            "28709/28709 [==============================] - 9s 331us/step - loss: 1.1600 - accuracy: 0.5540 - val_loss: 1.1765 - val_accuracy: 0.5525\n",
            "Epoch 11/100\n",
            "28709/28709 [==============================] - 9s 331us/step - loss: 1.1440 - accuracy: 0.5643 - val_loss: 1.1528 - val_accuracy: 0.5614\n",
            "Epoch 12/100\n",
            "28709/28709 [==============================] - 9s 331us/step - loss: 1.1327 - accuracy: 0.5677 - val_loss: 1.1707 - val_accuracy: 0.5550\n",
            "Epoch 13/100\n",
            "28709/28709 [==============================] - 10s 334us/step - loss: 1.1086 - accuracy: 0.5734 - val_loss: 1.1507 - val_accuracy: 0.5606\n",
            "Epoch 14/100\n",
            "28709/28709 [==============================] - 10s 332us/step - loss: 1.0951 - accuracy: 0.5807 - val_loss: 1.1605 - val_accuracy: 0.5726\n",
            "Epoch 15/100\n",
            "28709/28709 [==============================] - 10s 331us/step - loss: 1.0749 - accuracy: 0.5881 - val_loss: 1.1582 - val_accuracy: 0.5692\n",
            "Epoch 16/100\n",
            "28709/28709 [==============================] - 9s 331us/step - loss: 1.0563 - accuracy: 0.5938 - val_loss: 1.1585 - val_accuracy: 0.5653\n",
            "Epoch 17/100\n",
            "28709/28709 [==============================] - 9s 330us/step - loss: 1.0396 - accuracy: 0.6034 - val_loss: 1.1566 - val_accuracy: 0.5712\n",
            "Epoch 18/100\n",
            "28709/28709 [==============================] - 10s 331us/step - loss: 1.0320 - accuracy: 0.6076 - val_loss: 1.1517 - val_accuracy: 0.5667\n",
            "Epoch 19/100\n",
            "28709/28709 [==============================] - 9s 330us/step - loss: 1.0097 - accuracy: 0.6128 - val_loss: 1.1554 - val_accuracy: 0.5793\n",
            "Epoch 20/100\n",
            "28709/28709 [==============================] - 9s 330us/step - loss: 0.9993 - accuracy: 0.6175 - val_loss: 1.1594 - val_accuracy: 0.5648\n",
            "Epoch 21/100\n",
            "28709/28709 [==============================] - 9s 331us/step - loss: 0.9837 - accuracy: 0.6215 - val_loss: 1.1824 - val_accuracy: 0.5698\n",
            "Epoch 22/100\n",
            "28709/28709 [==============================] - 9s 330us/step - loss: 0.9747 - accuracy: 0.6278 - val_loss: 1.1414 - val_accuracy: 0.5737\n",
            "Epoch 23/100\n",
            "28709/28709 [==============================] - 10s 331us/step - loss: 0.9582 - accuracy: 0.6334 - val_loss: 1.1661 - val_accuracy: 0.5770\n",
            "Epoch 24/100\n",
            "28709/28709 [==============================] - 9s 331us/step - loss: 0.9339 - accuracy: 0.6444 - val_loss: 1.1764 - val_accuracy: 0.5768\n",
            "Epoch 25/100\n",
            "28709/28709 [==============================] - 9s 330us/step - loss: 0.9316 - accuracy: 0.6487 - val_loss: 1.1641 - val_accuracy: 0.5821\n",
            "Epoch 26/100\n",
            "28709/28709 [==============================] - 9s 331us/step - loss: 0.9102 - accuracy: 0.6542 - val_loss: 1.1629 - val_accuracy: 0.5840\n",
            "Epoch 27/100\n",
            "28709/28709 [==============================] - 9s 331us/step - loss: 0.8971 - accuracy: 0.6589 - val_loss: 1.1840 - val_accuracy: 0.5768\n",
            "Epoch 28/100\n",
            "28709/28709 [==============================] - 10s 331us/step - loss: 0.8786 - accuracy: 0.6671 - val_loss: 1.1675 - val_accuracy: 0.5762\n",
            "Epoch 29/100\n",
            "28709/28709 [==============================] - 9s 330us/step - loss: 0.8663 - accuracy: 0.6690 - val_loss: 1.1800 - val_accuracy: 0.5715\n",
            "Epoch 30/100\n",
            "28709/28709 [==============================] - 9s 330us/step - loss: 0.8622 - accuracy: 0.6724 - val_loss: 1.1949 - val_accuracy: 0.5776\n",
            "Epoch 31/100\n",
            "28709/28709 [==============================] - 9s 331us/step - loss: 0.8400 - accuracy: 0.6812 - val_loss: 1.2122 - val_accuracy: 0.5812\n",
            "Epoch 32/100\n",
            "28709/28709 [==============================] - 9s 331us/step - loss: 0.8254 - accuracy: 0.6851 - val_loss: 1.2208 - val_accuracy: 0.5743\n",
            "Epoch 33/100\n",
            "28709/28709 [==============================] - 9s 331us/step - loss: 0.8164 - accuracy: 0.6855 - val_loss: 1.2238 - val_accuracy: 0.5759\n",
            "Epoch 34/100\n",
            "28709/28709 [==============================] - 10s 331us/step - loss: 0.8135 - accuracy: 0.6934 - val_loss: 1.2505 - val_accuracy: 0.5743\n",
            "Epoch 35/100\n",
            "28709/28709 [==============================] - 9s 330us/step - loss: 0.7866 - accuracy: 0.7030 - val_loss: 1.2708 - val_accuracy: 0.5717\n",
            "Epoch 36/100\n",
            "28709/28709 [==============================] - 9s 330us/step - loss: 0.7899 - accuracy: 0.7024 - val_loss: 1.2410 - val_accuracy: 0.5843\n",
            "Epoch 37/100\n",
            "28709/28709 [==============================] - 9s 331us/step - loss: 0.7719 - accuracy: 0.7095 - val_loss: 1.2694 - val_accuracy: 0.5787\n",
            "Epoch 38/100\n",
            "28709/28709 [==============================] - 10s 331us/step - loss: 0.7620 - accuracy: 0.7129 - val_loss: 1.2445 - val_accuracy: 0.5779\n",
            "Epoch 39/100\n",
            "28709/28709 [==============================] - 9s 330us/step - loss: 0.7569 - accuracy: 0.7141 - val_loss: 1.2588 - val_accuracy: 0.5759\n",
            "Epoch 40/100\n",
            "28709/28709 [==============================] - 9s 330us/step - loss: 0.7421 - accuracy: 0.7206 - val_loss: 1.2844 - val_accuracy: 0.5734\n",
            "Epoch 41/100\n",
            "28709/28709 [==============================] - 9s 330us/step - loss: 0.7343 - accuracy: 0.7227 - val_loss: 1.2524 - val_accuracy: 0.5787\n",
            "Epoch 42/100\n",
            "28709/28709 [==============================] - 9s 330us/step - loss: 0.7246 - accuracy: 0.7279 - val_loss: 1.2416 - val_accuracy: 0.5779\n",
            "Epoch 43/100\n",
            "28709/28709 [==============================] - 9s 331us/step - loss: 0.7171 - accuracy: 0.7309 - val_loss: 1.2950 - val_accuracy: 0.5823\n",
            "Epoch 44/100\n",
            "28709/28709 [==============================] - 9s 330us/step - loss: 0.7057 - accuracy: 0.7344 - val_loss: 1.3025 - val_accuracy: 0.5678\n",
            "Epoch 45/100\n",
            "28709/28709 [==============================] - 9s 330us/step - loss: 0.6994 - accuracy: 0.7389 - val_loss: 1.3185 - val_accuracy: 0.5692\n",
            "Epoch 46/100\n",
            "28709/28709 [==============================] - 10s 331us/step - loss: 0.6930 - accuracy: 0.7383 - val_loss: 1.3304 - val_accuracy: 0.5762\n",
            "Epoch 47/100\n",
            "28709/28709 [==============================] - 9s 330us/step - loss: 0.6849 - accuracy: 0.7414 - val_loss: 1.3166 - val_accuracy: 0.5782\n",
            "Epoch 48/100\n",
            "28709/28709 [==============================] - 9s 330us/step - loss: 0.6653 - accuracy: 0.7506 - val_loss: 1.3278 - val_accuracy: 0.5706\n",
            "Epoch 49/100\n",
            "28709/28709 [==============================] - 9s 331us/step - loss: 0.6633 - accuracy: 0.7521 - val_loss: 1.3364 - val_accuracy: 0.5815\n",
            "Epoch 50/100\n",
            "28709/28709 [==============================] - 9s 330us/step - loss: 0.6533 - accuracy: 0.7566 - val_loss: 1.3934 - val_accuracy: 0.5690\n",
            "Epoch 51/100\n",
            "28709/28709 [==============================] - 9s 331us/step - loss: 0.6588 - accuracy: 0.7539 - val_loss: 1.3546 - val_accuracy: 0.5717\n",
            "Epoch 52/100\n",
            "28709/28709 [==============================] - 9s 331us/step - loss: 0.6487 - accuracy: 0.7607 - val_loss: 1.3918 - val_accuracy: 0.5851\n",
            "Epoch 53/100\n",
            "28709/28709 [==============================] - 9s 330us/step - loss: 0.6365 - accuracy: 0.7658 - val_loss: 1.3731 - val_accuracy: 0.5807\n",
            "Epoch 54/100\n",
            "28709/28709 [==============================] - 9s 331us/step - loss: 0.6322 - accuracy: 0.7666 - val_loss: 1.3911 - val_accuracy: 0.5812\n",
            "Epoch 55/100\n",
            "28709/28709 [==============================] - 9s 331us/step - loss: 0.6200 - accuracy: 0.7724 - val_loss: 1.3636 - val_accuracy: 0.5759\n",
            "Epoch 56/100\n",
            "28709/28709 [==============================] - 9s 330us/step - loss: 0.5916 - accuracy: 0.7818 - val_loss: 1.3920 - val_accuracy: 0.5787\n",
            "Epoch 57/100\n",
            "28709/28709 [==============================] - 9s 331us/step - loss: 0.6037 - accuracy: 0.7784 - val_loss: 1.4513 - val_accuracy: 0.5734\n",
            "Epoch 58/100\n",
            "28709/28709 [==============================] - 9s 330us/step - loss: 0.5986 - accuracy: 0.7765 - val_loss: 1.3919 - val_accuracy: 0.5715\n",
            "Epoch 59/100\n",
            "28709/28709 [==============================] - 9s 330us/step - loss: 0.5935 - accuracy: 0.7786 - val_loss: 1.4370 - val_accuracy: 0.5765\n",
            "Epoch 60/100\n",
            "28709/28709 [==============================] - 9s 331us/step - loss: 0.5921 - accuracy: 0.7820 - val_loss: 1.4139 - val_accuracy: 0.5726\n",
            "Epoch 61/100\n",
            "28709/28709 [==============================] - 9s 330us/step - loss: 0.5851 - accuracy: 0.7867 - val_loss: 1.4588 - val_accuracy: 0.5770\n",
            "Epoch 62/100\n",
            "28709/28709 [==============================] - 10s 331us/step - loss: 0.5647 - accuracy: 0.7918 - val_loss: 1.4732 - val_accuracy: 0.5823\n",
            "Epoch 63/100\n",
            "28709/28709 [==============================] - 9s 330us/step - loss: 0.5723 - accuracy: 0.7912 - val_loss: 1.4527 - val_accuracy: 0.5751\n",
            "Epoch 64/100\n",
            "28709/28709 [==============================] - 9s 329us/step - loss: 0.5662 - accuracy: 0.7935 - val_loss: 1.4771 - val_accuracy: 0.5782\n",
            "Epoch 65/100\n",
            "28709/28709 [==============================] - 9s 330us/step - loss: 0.5541 - accuracy: 0.7972 - val_loss: 1.4368 - val_accuracy: 0.5765\n",
            "Epoch 66/100\n",
            "28709/28709 [==============================] - 9s 331us/step - loss: 0.5541 - accuracy: 0.7977 - val_loss: 1.4583 - val_accuracy: 0.5695\n",
            "Epoch 67/100\n",
            "28709/28709 [==============================] - 9s 330us/step - loss: 0.5498 - accuracy: 0.7980 - val_loss: 1.5061 - val_accuracy: 0.5737\n",
            "Epoch 68/100\n",
            "28709/28709 [==============================] - 9s 330us/step - loss: 0.5457 - accuracy: 0.8038 - val_loss: 1.4674 - val_accuracy: 0.5770\n",
            "Epoch 69/100\n",
            "28709/28709 [==============================] - 9s 331us/step - loss: 0.5282 - accuracy: 0.8069 - val_loss: 1.4602 - val_accuracy: 0.5701\n",
            "Epoch 70/100\n",
            "28709/28709 [==============================] - 9s 330us/step - loss: 0.5277 - accuracy: 0.8076 - val_loss: 1.5146 - val_accuracy: 0.5759\n",
            "Epoch 71/100\n",
            "28709/28709 [==============================] - 9s 331us/step - loss: 0.5241 - accuracy: 0.8109 - val_loss: 1.5530 - val_accuracy: 0.5673\n",
            "Epoch 72/100\n",
            "28709/28709 [==============================] - 9s 331us/step - loss: 0.5178 - accuracy: 0.8104 - val_loss: 1.5161 - val_accuracy: 0.5701\n",
            "Epoch 73/100\n",
            "28709/28709 [==============================] - 9s 330us/step - loss: 0.5205 - accuracy: 0.8132 - val_loss: 1.5741 - val_accuracy: 0.5768\n",
            "Epoch 74/100\n",
            "28709/28709 [==============================] - 9s 330us/step - loss: 0.5232 - accuracy: 0.8121 - val_loss: 1.5061 - val_accuracy: 0.5609\n",
            "Epoch 75/100\n",
            "28709/28709 [==============================] - 10s 331us/step - loss: 0.5169 - accuracy: 0.8134 - val_loss: 1.4930 - val_accuracy: 0.5695\n",
            "Epoch 76/100\n",
            "28709/28709 [==============================] - 9s 330us/step - loss: 0.4986 - accuracy: 0.8174 - val_loss: 1.5781 - val_accuracy: 0.5678\n",
            "Epoch 77/100\n",
            "28709/28709 [==============================] - 9s 330us/step - loss: 0.5150 - accuracy: 0.8139 - val_loss: 1.5453 - val_accuracy: 0.5712\n",
            "Epoch 78/100\n",
            "28709/28709 [==============================] - 9s 331us/step - loss: 0.5049 - accuracy: 0.8163 - val_loss: 1.5824 - val_accuracy: 0.5690\n",
            "Epoch 79/100\n",
            "28709/28709 [==============================] - 10s 335us/step - loss: 0.5034 - accuracy: 0.8213 - val_loss: 1.5431 - val_accuracy: 0.5720\n",
            "Epoch 80/100\n",
            "28709/28709 [==============================] - 9s 331us/step - loss: 0.4855 - accuracy: 0.8241 - val_loss: 1.5491 - val_accuracy: 0.5637\n",
            "Epoch 81/100\n",
            "28709/28709 [==============================] - 9s 330us/step - loss: 0.4896 - accuracy: 0.8257 - val_loss: 1.6009 - val_accuracy: 0.5612\n",
            "Epoch 82/100\n",
            "28709/28709 [==============================] - 9s 331us/step - loss: 0.4870 - accuracy: 0.8231 - val_loss: 1.5831 - val_accuracy: 0.5729\n",
            "Epoch 83/100\n",
            "28709/28709 [==============================] - 9s 331us/step - loss: 0.4821 - accuracy: 0.8252 - val_loss: 1.5112 - val_accuracy: 0.5695\n",
            "Epoch 84/100\n",
            "28709/28709 [==============================] - 9s 330us/step - loss: 0.4823 - accuracy: 0.8278 - val_loss: 1.5975 - val_accuracy: 0.5678\n",
            "Epoch 85/100\n",
            "28709/28709 [==============================] - 9s 330us/step - loss: 0.4792 - accuracy: 0.8292 - val_loss: 1.5132 - val_accuracy: 0.5600\n",
            "Epoch 86/100\n",
            "28709/28709 [==============================] - 9s 331us/step - loss: 0.4746 - accuracy: 0.8295 - val_loss: 1.6141 - val_accuracy: 0.5712\n",
            "Epoch 87/100\n",
            "28709/28709 [==============================] - 9s 330us/step - loss: 0.4779 - accuracy: 0.8290 - val_loss: 1.5517 - val_accuracy: 0.5768\n",
            "Epoch 88/100\n",
            "28709/28709 [==============================] - 9s 330us/step - loss: 0.4699 - accuracy: 0.8342 - val_loss: 1.5236 - val_accuracy: 0.5709\n",
            "Epoch 89/100\n",
            "28709/28709 [==============================] - 9s 331us/step - loss: 0.4554 - accuracy: 0.8375 - val_loss: 1.5901 - val_accuracy: 0.5612\n",
            "Epoch 90/100\n",
            "28709/28709 [==============================] - 10s 331us/step - loss: 0.4623 - accuracy: 0.8343 - val_loss: 1.6925 - val_accuracy: 0.5637\n",
            "Epoch 91/100\n",
            "28709/28709 [==============================] - 9s 330us/step - loss: 0.4570 - accuracy: 0.8356 - val_loss: 1.6221 - val_accuracy: 0.5698\n",
            "Epoch 92/100\n",
            "28709/28709 [==============================] - 9s 330us/step - loss: 0.4664 - accuracy: 0.8329 - val_loss: 1.5875 - val_accuracy: 0.5801\n",
            "Epoch 93/100\n",
            "28709/28709 [==============================] - 9s 330us/step - loss: 0.4503 - accuracy: 0.8401 - val_loss: 1.6235 - val_accuracy: 0.5776\n",
            "Epoch 94/100\n",
            "28709/28709 [==============================] - 10s 331us/step - loss: 0.4451 - accuracy: 0.8415 - val_loss: 1.6097 - val_accuracy: 0.5670\n",
            "Epoch 95/100\n",
            "28709/28709 [==============================] - 9s 330us/step - loss: 0.4488 - accuracy: 0.8397 - val_loss: 1.6692 - val_accuracy: 0.5645\n",
            "Epoch 96/100\n",
            "28709/28709 [==============================] - 10s 331us/step - loss: 0.4564 - accuracy: 0.8370 - val_loss: 1.5540 - val_accuracy: 0.5656\n",
            "Epoch 97/100\n",
            "28709/28709 [==============================] - 9s 330us/step - loss: 0.4464 - accuracy: 0.8409 - val_loss: 1.6831 - val_accuracy: 0.5720\n",
            "Epoch 98/100\n",
            "28709/28709 [==============================] - 9s 330us/step - loss: 0.4349 - accuracy: 0.8442 - val_loss: 1.6224 - val_accuracy: 0.5659\n",
            "Epoch 99/100\n",
            "28709/28709 [==============================] - 9s 331us/step - loss: 0.4479 - accuracy: 0.8392 - val_loss: 1.6059 - val_accuracy: 0.5717\n",
            "Epoch 100/100\n",
            "28709/28709 [==============================] - 9s 330us/step - loss: 0.4368 - accuracy: 0.8466 - val_loss: 1.6662 - val_accuracy: 0.5570\n"
          ],
          "name": "stdout"
        },
        {
          "output_type": "execute_result",
          "data": {
            "text/plain": [
              "<keras.callbacks.callbacks.History at 0x7f5d8e557470>"
            ]
          },
          "metadata": {
            "tags": []
          },
          "execution_count": 93
        }
      ]
    },
    {
      "cell_type": "code",
      "metadata": {
        "id": "dfXCmo4AyqNh",
        "colab_type": "code",
        "outputId": "a16ec788-7150-41ff-e616-8acada1478de",
        "colab": {
          "base_uri": "https://localhost:8080/",
          "height": 50
        }
      },
      "source": [
        "loss, accuracy = model.evaluate(X_test, test_y)\n",
        "print(accuracy)#accuarcy with relu function=0.5739760398864746 in 50 epoch\n",
        "#accuracy with elu function = 0.569796621799469 in 50 epoch"
      ],
      "execution_count": 94,
      "outputs": [
        {
          "output_type": "stream",
          "text": [
            "3589/3589 [==============================] - 1s 145us/step\n",
            "0.5569796562194824\n"
          ],
          "name": "stdout"
        }
      ]
    },
    {
      "cell_type": "code",
      "metadata": {
        "id": "eYERRtCU5PaC",
        "colab_type": "code",
        "outputId": "5db43293-1203-4174-bd59-abe31f6bacd0",
        "colab": {
          "base_uri": "https://localhost:8080/",
          "height": 84
        }
      },
      "source": [
        "print(np.shape(X_train))\n",
        "print(np.shape(train_y))\n",
        "print(np.shape(X_test))\n",
        "print(np.shape(test_y))"
      ],
      "execution_count": 35,
      "outputs": [
        {
          "output_type": "stream",
          "text": [
            "(28709, 48, 48, 1)\n",
            "(28709, 7)\n",
            "(3589, 48, 48, 1)\n",
            "(3589, 7)\n"
          ],
          "name": "stdout"
        }
      ]
    },
    {
      "cell_type": "markdown",
      "metadata": {
        "id": "U761QHKoglpH",
        "colab_type": "text"
      },
      "source": [
        "# Saving The Model"
      ]
    },
    {
      "cell_type": "code",
      "metadata": {
        "id": "mJkaN6NOVwAM",
        "colab_type": "code",
        "colab": {}
      },
      "source": [
        "#Saving the  model to  use it later on\n",
        "fer_json = model.to_json()\n",
        "with open(\"fer.json\", \"w\") as json_file:\n",
        "    json_file.write(fer_json)\n",
        "model.save_weights(\"fer.h5\")"
      ],
      "execution_count": 0,
      "outputs": []
    },
    {
      "cell_type": "code",
      "metadata": {
        "id": "eF5-S-59x18k",
        "colab_type": "code",
        "colab": {}
      },
      "source": [
        "def create_model(learning_rate=0.01, activation='relu'):\n",
        "\n",
        "  model = Sequential()\n",
        "\n",
        "  model.add(Conv2D(64, kernel_size=(3, 3), activation = activation, input_shape=(X_train.shape[1:])))\n",
        "  model.add(Conv2D(64,kernel_size= (3, 3),activation = activation))\n",
        "# model.add(BatchNormalization())\n",
        "  model.add(MaxPooling2D(pool_size=(2,2), strides=(2, 2)))\n",
        "  model.add(Dropout(0.5))\n",
        "\n",
        "#2nd convolution layer\n",
        "  model.add(Conv2D(64, (3, 3), activation = activation))\n",
        "  model.add(Conv2D(64, (3, 3), activation = activation))\n",
        "# model.add(BatchNormalization())\n",
        "  model.add(MaxPooling2D(pool_size=(2,2), strides=(2, 2)))\n",
        "  model.add(Dropout(0.5))\n",
        "\n",
        "#3rd convolution layer\n",
        "  model.add(Conv2D(128, (3, 3), activation = activation))\n",
        "  model.add(Conv2D(128, (3, 3), activation = activation))\n",
        "# model.add(BatchNormalization())\n",
        "  model.add(MaxPooling2D(pool_size=(2,2), strides=(2, 2)))\n",
        "\n",
        "  model.add(Flatten())\n",
        "\n",
        "#fully connected neural networks\n",
        "  model.add(Dense(1024, activation = activation))\n",
        "  model.add(Dropout(0.2))\n",
        "  model.add(Dense(1024,activation = activation))\n",
        "  model.add(Dropout(0.2))\n",
        "\n",
        "  model.add(Dense(num_labels, activation='softmax'))\n",
        "\n",
        "# model.summary()\n",
        "\n",
        "#Compliling the model\n",
        "  model.compile(loss=categorical_crossentropy,optimizer=Adam(),metrics=['accuracy'])\n",
        "  return model"
      ],
      "execution_count": 0,
      "outputs": []
    },
    {
      "cell_type": "markdown",
      "metadata": {
        "id": "WjY_-_AOgsiF",
        "colab_type": "text"
      },
      "source": [
        "# Hyperparameter tuning\n"
      ]
    },
    {
      "cell_type": "code",
      "metadata": {
        "id": "CYAiVy7r0734",
        "colab_type": "code",
        "colab": {}
      },
      "source": [
        "\n",
        "# Create a KerasClassifier\n",
        "model = KerasRegressor(build_fn = create_model,\n",
        "                       verbose = 0)\n",
        "\n",
        "# Define the parameters to try out\n",
        "params = {'activation': [\"relu\",\"elu\"],\n",
        "          'batch_size': [32,64], \n",
        "          'epochs': [10,50]}\n",
        "          # 'learning_rate': [0.01, 0.001, 0.0001,0.00001]}\n",
        "\n",
        "# Create a randomize search cv object passing in the parameters to try\n",
        "random_search = RandomizedSearchCV(model,\n",
        "                                   param_distributions = params,\n",
        "                                   cv = KFold(10))\n"
      ],
      "execution_count": 0,
      "outputs": []
    },
    {
      "cell_type": "code",
      "metadata": {
        "id": "ZGTESj0ey7I6",
        "colab_type": "code",
        "colab": {}
      },
      "source": [
        "random_search_results = random_search.fit(X_train, train_y)"
      ],
      "execution_count": 0,
      "outputs": []
    },
    {
      "cell_type": "code",
      "metadata": {
        "id": "b3YL0ufg0Fle",
        "colab_type": "code",
        "colab": {}
      },
      "source": [
        "print(\"Best Score: \", random_search_results.best_score_, \"and Best Params: \", random_search_results.best_params_)"
      ],
      "execution_count": 0,
      "outputs": []
    },
    {
      "cell_type": "code",
      "metadata": {
        "id": "GmoO5IxYk1CM",
        "colab_type": "code",
        "colab": {}
      },
      "source": [
        ""
      ],
      "execution_count": 0,
      "outputs": []
    }
  ]
}